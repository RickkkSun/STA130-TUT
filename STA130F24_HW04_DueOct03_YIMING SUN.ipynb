{
 "cells": [
  {
   "cell_type": "markdown",
   "metadata": {},
   "source": [
    "# STA130 Homework 04 \n",
    "\n",
    "Please see the course [wiki-textbook](https://github.com/pointOfive/STA130_ChatGPT/wiki) for the list of topics covered in this homework assignment, and a list of topics that might appear during ChatBot conversations which are \"out of scope\" for the purposes of this homework assignment (and hence can be safely ignored if encountered)"
   ]
  },
  {
   "cell_type": "markdown",
   "metadata": {
    "slideshow": {
     "slide_type": "-"
    }
   },
   "source": [
    "<details class=\"details-example\">\n",
    "    <summary style=\"color:blue\"><u>Introduction</u></summary>\n",
    "\n",
    "A reasonable characterization of STA130 Homework is that it simply defines a weekly reading comprehension assignment. \n",
    "Indeed, STA130 Homework essentially boils down to completing various understanding confirmation exercises oriented around coding and writing tasks.\n",
    "However, rather than reading a textbook, STA130 Homework is based on ChatBots so students can interactively follow up to clarify questions or confusion that they may still have regarding learning objective assignments.\n",
    "\n",
    "> Communication is a fundamental skill underlying statistics and data science, so STA130 Homework based on ChatBots helps practice effective two-way communication as part of a \"realistic\" dialogue activity supporting underlying conceptual understanding building. \n",
    "\n",
    "It will likely become increasingly tempting to rely on ChatBots to \"do the work for you\". But when you find yourself frustrated with a ChatBots inability to give you the results you're looking for, this is a \"hint\" that you've become overreliant on the ChatBots. Your objective should not be to have ChatBots \"do the work for you\", but to use ChatBots to help you build your understanding so you can efficiently leverage ChatBots (and other resources) to help you work more efficiently.<br><br>\n",
    "\n",
    "</details>\n",
    "\n",
    "<details class=\"details-example\">\n",
    "    <summary style=\"color:blue\"><u>Instructions</u></summary>\n",
    "\n",
    "1. Code and write all your answers (for both the \"Prelecture\" and \"Postlecture\" HW) in a python notebook (in code and markdown cells) \n",
    "    \n",
    "    > It is *suggested but not mandatory* that you complete the \"Prelecture\" HW prior to the Monday LEC since (a) all HW is due at the same time; but, (b) completing some of the HW early will mean better readiness for LEC and less of a \"procrastentation cruch\" towards the end of the week...\n",
    "    \n",
    "2. Paste summaries of your ChatBot sessions (including link(s) to chat log histories if you're using ChatGPT) within your notebook\n",
    "    \n",
    "    > Create summaries of your ChatBot sessions by using concluding prompts such as \"Please provide a summary of our exchanges here so I can submit them as a record of our interactions as part of a homework assignment\" or, \"Please provide me with the final working verson of the code that we created together\"\n",
    "    \n",
    "3. Save your python jupyter notebook in your own account and \"repo\" on [github.com](github.com) and submit a link to that notebook though Quercus for assignment marking<br><br>\n",
    "\n",
    "</details>\n",
    "\n",
    "<details class=\"details-example\">\n",
    "    <summary style=\"color:blue\"><u>Prompt Engineering?</u></summary>\n",
    "\n",
    "The questions (as copy-pasted prompts) are designed to initialize appropriate ChatBot conversations which can be explored in the manner of an interactive and dynamic textbook; but, it is nonetheless **strongly recommendated** that your rephrase the questions in a way that you find natural to ensure a clear understanding of the question. Given sensible prompts the represent a question well, the two primary challenges observed to arise from ChatBots are \n",
    "\n",
    "1. conversations going beyond the intended scope of the material addressed by the question; and, \n",
    "2. unrecoverable confusion as a result of sequential layers logial inquiry that cannot be resolved. \n",
    "\n",
    "In the case of the former (1), adding constraints specifying the limits of considerations of interest tends to be helpful; whereas, the latter (2) is often the result of initial prompting that leads to poor developments in navigating the material, which are likely just best resolve by a \"hard reset\" with a new initial approach to prompting.  Indeed, this is exactly the behavior [hardcoded into copilot](https://answers.microsoft.com/en-us/bing/forum/all/is-this-even-normal/0b6dcab3-7d6c-4373-8efe-d74158af3c00)...\n",
    "\n",
    "</details>\n",
    "\n",
    "### Marking Rubric (which may award partial credit) \n",
    "\n",
    "- [0.1 points]: All relevant ChatBot summaries [including link(s) to chat log histories if you're using ChatGPT] are reported within the notebook\n",
    "- [0.2 points]: Evaluation of correctness and effectiveness of written communication for Question \"1\"\n",
    "- [0.2 points]: Correctness of understanding confirmed by code comments and relevant ChatBot summaries [including link(s) to chat log histories if you're using ChatGPT] for Question \"4\"\n",
    "- [0.2 points]: Evaluation of correctness and effectiveness of written communication for Question \"6\"\n",
    "- [0.3 points]: Evaluation of submission for Question \"9\"\n"
   ]
  },
  {
   "cell_type": "markdown",
   "metadata": {},
   "source": [
    "### \"Prelecture\" HW [*completion prior to next LEC is suggested but not mandatory*]\n",
    "\n",
    "#### To prepare for this weeks lecture, first watch this video [introduction to bootstrapping](https://www.youtube.com/watch?v=Xz0x-8-cgaQ)\n"
   ]
  },
  {
   "cell_type": "code",
   "execution_count": null,
   "metadata": {},
   "outputs": [],
   "source": [
    "from IPython.display import YouTubeVideo\n",
    "YouTubeVideo('Xz0x-8-cgaQ', width=800, height=500)"
   ]
  },
  {
   "cell_type": "markdown",
   "metadata": {},
   "source": [
    "\n",
    "1. The \"Prelecture\" video (above) mentioned the \"standard error of the mean\" as being the \"standard deviation\" of the distribution bootstrapped means.  What is the difference between the \"standard error of the mean\" and the \"standard deviation\" of the original data? What hypothetical idea do each of these capture? Explain this concisely in your own words.<br><br>\n",
    "\n",
    "    <details class=\"details-example\"><summary style=\"color:blue\"><u>Further Guidance</u></summary>\n",
    "\n",
    "    > To answer this question, you could start a ChatBot session and try giving a ChatBot a shot at trying to explain this distinction to you. If you're not sure if you've been able to figured it out out this way, review [this ChatGPT session](../CHATLOG/wk4/GPT/SLS/00002_gpt3p5_SEM_vs_SD_Difference.md). If you proceed this way, *don't forget to ask for summaries of your ChatBot session(s) and paste these into your homework notebook (including link(s) to chat log histories if you're using ChatGPT).*\n",
    "    > \n",
    "    > - Note that the \"Prelecture\" video (above) and the *Question 5* of **Communication Actvity #2** in TUT address the question of \"What is bootstrapping?\", but that the question of \"What is the difference between the \"standard error of the mean\" and the \"standard deviation\" of the original data?\" does not really depend on what bootstrapping is...\n",
    "    > \n",
    "    > *If you were to be interested in answering the question of \"What is bootstrapping?\", probably just asking a ChatBot directly would work. Or even something like \"Explain variability of means, function of sample size, bootstrapping\" or \"How does the variability of means of simulated samples change as a function of sample size? Explain this to me in a simple way using bootstrapping!\" would likely be pretty effective as prompts. ChatBots are not particularly picky about prompts when it comes to addressing very well understood topics (like bootstrapping). That said, the more detail you provide in your prompt, the more you can guide the relevance and relatability of the responses of a ChatBot in a manner you desire. The \"Further Guidance\" under *Question 5* of **Communication Actvity #2** in TUT is a good example of this.*\n",
    "    \n",
    "    <br></details>\n",
    "\n",
    "2. The \"Prelecture\" video (above) suggested that the \"standard error of the mean\" could be used to create a confidence interval, but didn't describe exactly how to do this.  How can we use the \"standard error of the mean\" to create a 95% confidence interval which \"covers 95% of the bootstrapped sample means\"? Explain this concisely in your own words.<br><br>\n",
    "\n",
    "    <details class=\"details-example\"><summary style=\"color:blue\"><u>Further Guidance</u></summary>\n",
    "    \n",
    "    If you continue get help from a ChatBot on this question, *don't forget to ask for summaries of your ChatBot session(s) and paste these into your homework notebook (including link(s) to chat log histories if you're using ChatGPT).*\n",
    "    \n",
    "    *Just describe the proceedure itself (perhaps as reported by a ChatBot), but explain the procedure in your own words in a way that makes the most sense to you. The point is not to understand or explain the theoretical justification as to why this procedure exists, it's just to recognize that it does indeed exist and to briefly describe it. This is because in this class we're going to instead focus on understanding and using 95% bootstrapped confidence intervals. So this \"sample mean plus and minus about 2 times the standard error\" really only provides some context against which to contrast and clarify bootstrapped confidence intervals*\n",
    "    \n",
    "    <br></details>\n",
    "\n",
    "3. Creating the \"sample mean plus and minus about 2 times the standard error\" confidence interval addressed in the previous problem should indeed cover approximately 95% of the bootstrapped sample means. Alternatively, how do we create a 95% bootstrapped confidence interval using the bootstrapped means (without using their standard deviation to estimate the standard error of the mean)? Explain this concisely in your own words.<br><br>\n",
    "\n",
    "    <details class=\"details-example\"><summary style=\"color:blue\"><u>Further Guidance</u></summary>\n",
    "    \n",
    "    > #### There are many relevant details about bootstrapping which might provide you with some good hints as you're thinking through this proceedure...\n",
    "    > \n",
    "    > - While the variability/uncertainty of sample mean statistics when sampling from a population is a function of the sample size (n) [how?], we would NEVER consider using a bootstrapped sample size that was different than the size of the original sample [why?]...\n",
    "    > - ~If you had a theoretical distribution representing the variability/uncertianty of means (of \"averages\") that an observed sample of size n produces, how would you give a range estimating what the sample mean of a future sample of size n might be?~ If you had a histogram of bootstrapped sample means representing the variability of means that an observed sample of size n produces, how would you give a range estimating what the sample mean of a future sample of size n might be? \n",
    "    > - A good explaination here would likely be based on explaining how (and why) to use the `np.quantile(...)` function on a collection of bootstrapped sample means...\n",
    "    > - Unlike the \"sample mean plus and minus about 2 times the standard error\" approach which would only cover **approximately** 95% of the bootstrapped sample means, a 95% bootstrapped confidence interval would cover exactly 95% of the bootstrapped means... \n",
    "    > - Are bootstrapped samples different if they are the same size as the original sample and created by sampling **without replacement**?\n",
    "    \n",
    "    <br></details>\n",
    "\n",
    "4. The \"Prelecture\" video (above) mentioned that bootstrap confidence intervals could apply to other statistics of the sample, such as the \"median\". Work with a ChatBot to create code to produce a 95% bootstrap confidence interval for a population mean based on a sample that you have and comment the code to demonstrate how the code can be changed to produce a 95% bootstrap confidence interval for different population parameter (other than the population mean, such as the population median).<br><br>\n",
    "\n",
    "    <details class=\"details-example\"><summary style=\"color:blue\"><u>Further Guidance</u></summary>\n",
    "\n",
    "    *Hint: you can ask your ChatBot to create the code you need, and even make up a sample to use; but, you should work with your ChatBot to make sure you understand how the code works and what it's doing.*\n",
    "    \n",
    "    <br></details>"
   ]
  },
  {
   "cell_type": "markdown",
   "metadata": {},
   "source": [
    "# Q1.\n",
    "\n",
    "The \"Prelecture\" video (above) mentioned the \"standard error of the mean\" as being the \"standard deviation\" of the distribution bootstrapped means.  What is the difference between the \"standard error of the mean\" and the \"standard deviation\" of the original data? What hypothetical idea do each of these capture? Explain this concisely in your own words.<br><br>"
   ]
  },
  {
   "cell_type": "markdown",
   "metadata": {
    "slideshow": {
     "slide_type": "-"
    }
   },
   "source": [
    "# Q1\n",
    "\n",
    "1. The standard deviation (SD) measures the variability or dispersion of individual data points in a dataset around the mean. It reflects how spread out the values are from the average.\n",
    "\n",
    "    The standard error of the mean (SEM) measures the variability of sample means around the true population mean. It indicates how much the sample mean is expected to fluctuate from one sample to another and is calculated as the standard deviation divided by the square root of the sample size (n).\n",
    "    \n",
    "    From maths, I will explain this. Stanadrd error of mean is the std of the sample mean, which is a random variable expresses as : \n",
    "    $$\\bar{X}=\\frac{1}{n}\\sum_{i=1}^{n}X_i$$\n",
    "    $$\\sigma_\\bar{X}=\\frac{\\sigma_X}{\\sqrt{n}}$$ \n",
    "    or in sample: \n",
    "    $$s_\\bar{X}=\\frac{s_X}{\\sqrt{n}}$$ \n",
    "    In contrast, stanard deviation of originial data is the std of the each individal data point X\n",
    "    population std of X : \n",
    "    $$\\sigma_X$$\n",
    "    sample std of X : \n",
    "    $$s_X=\\sqrt{\\frac{1}{n}\\sum_{i=1}^n(X_i-\\bar{X})^2}$$  \n",
    "    \n",
    "   The standard deviation (SD) is a measure of how spread out the values in a dataset are from the mean. It quantifies the amount of variation or dispersion of individual data points. A higher standard deviation indicates that the data points are more spread out from the mean, while a lower standard deviation suggests that the data points are closer to the mean.\n",
    "\n",
    "   On the other hand, the standard error of the mean (SEM) is a measure of how much the sample mean is expected to vary from the true population mean if you took multiple samples. The SEM is essentially the standard deviation of the sample means and indicates the precision of the sample mean as an estimate of the population mean. While the SD reflects the variability of individual data points, the SEM reflects the variability of the sample mean, making it useful for understanding how accurate your sample mean is as an estimate of the overall population mean.\n",
    "\n",
    "   In summary, SD measures the variability of individual data points in a dataset, while SEM focuses on the reliability of the sample mean as a representation of the population mean. Both metrics are important but serve different purposes in statistical analysis."
   ]
  },
  {
   "cell_type": "markdown",
   "metadata": {
    "slideshow": {
     "slide_type": "-"
    }
   },
   "source": [
    "# Q2.\n",
    "\n",
    "The \"Prelecture\" video (above) suggested that the \"standard error of the mean\" could be used to create a confidence interval, but didn't describe exactly how to do this.  How can we use the \"standard error of the mean\" to create a 95% confidence interval which \"covers 95% of the bootstrapped sample means\"? Explain this concisely in your own words.<br><br>\n",
    "\n",
    "1. Calculate the Sample Mean: Find the mean of your sample data.\n",
    "\n",
    "    $$\\bar{X}=\\frac{1}{n}\\sum_{i=1}^{n}X_i$$\n",
    "\n",
    "2. Compute the Standard Error of the Mean: Divide the standard deviation of your sample by the square root of the sample size (n):\n",
    "\n",
    "     $$s_\\bar{X}=\\frac{s_X}{\\sqrt{n}}$$ \n",
    "\n",
    "3. Determine the Z-Score for 95% Confidence: For a 95% confidence level, use a Z-score of approximately 1.96.\n",
    "\n",
    "4. Calculate the Confidence Interval: Use the sample mean and SEM to calculate the interval:\n",
    "    $$\\bar{X} + or - 1.96 * s_\\bar{X}$$\n",
    "    \n",
    "    $$\\bar{X} + or - 1.96 * \\frac{s_X}{\\sqrt{n}}$$\n",
    "    \n",
    "    To create a 95% confidence interval, you then use a Z-score of approximately 1.96, which corresponds to a 95% confidence level. This means that, under normal conditions, 95% of the sample means should fall within this range of the true population mean. The final step is to calculate the confidence interval by multiplying the SEM by 1.96 and adding and subtracting this value from the sample mean. This provides the range in which the true population mean is likely to lie. \n",
    "   In essence, the confidence interval gives you a range around the sample mean, providing insight into the precision of your estimate of the population mean. This is particularly useful in determining how reliable your sample mean is when generalizing to a broader population.\n",
    "    \n",
    "    "
   ]
  },
  {
   "cell_type": "markdown",
   "metadata": {},
   "source": [
    "3. Creating the \"sample mean plus and minus about 2 times the standard error\" confidence interval addressed in the previous problem should indeed cover approximately 95% of the bootstrapped sample means. Alternatively, how do we create a 95% bootstrapped confidence interval using the bootstrapped means (without using their standard deviation to estimate the standard error of the mean)? Explain this concisely in your own words.<br><br>\n",
    "\n",
    "    <details class=\"details-example\"><summary style=\"color:blue\"><u>Further Guidance</u></summary>\n",
    "    \n",
    "    > #### There are many relevant details about bootstrapping which might provide you with some good hints as you're thinking through this proceedure...\n",
    "    > \n",
    "    > - While the variability/uncertainty of sample mean statistics when sampling from a population is a function of the sample size (n) [how?], we would NEVER consider using a bootstrapped sample size that was different than the size of the original sample [why?]...\n",
    "    > - ~If you had a theoretical distribution representing the variability/uncertianty of means (of \"averages\") that an observed sample of size n produces, how would you give a range estimating what the sample mean of a future sample of size n might be?~ If you had a histogram of bootstrapped sample means representing the variability of means that an observed sample of size n produces, how would you give a range estimating what the sample mean of a future sample of size n might be? \n",
    "    > - A good explaination here would likely be based on explaining how (and why) to use the `np.quantile(...)` function on a collection of bootstrapped sample means...\n",
    "    > - Unlike the \"sample mean plus and minus about 2 times the standard error\" approach which would only cover **approximately** 95% of the bootstrapped sample means, a 95% bootstrapped confidence interval would cover exactly 95% of the bootstrapped means... \n",
    "    > - Are bootstrapped samples different if they are the same size as the original sample and created by sampling **without replacement**?\n",
    "    \n",
    "    <br></details>"
   ]
  },
  {
   "cell_type": "markdown",
   "metadata": {},
   "source": [
    "To create a 95% bootstrapped confidence interval using bootstrapped means, follow these steps:\n",
    "\n",
    "1. Generate Bootstrap Samples: Resample your original dataset with replacement to create multiple bootstrap samples (typically 1,000 or more).\n",
    "\n",
    "2. Calculate Bootstrap Means: For each bootstrap sample, calculate the mean. This will give you a distribution of bootstrap means.\n",
    "\n",
    "3. Reapt step1 and step2 for a large number of times and get a large number of sample means \n",
    "\n",
    "4. Sort the Bootstrap Means: Arrange the bootstrapped means in ascending order.\n",
    "\n",
    "5. Determine the Confidence Interval: To find the 95% confidence interval:\n",
    "\n",
    "Identify the 2.5th percentile and the 97.5th percentile of the sorted bootstrap means.\n",
    "These percentiles correspond to the lower and upper bounds of your confidence interval.\n",
    "\n"
   ]
  },
  {
   "cell_type": "markdown",
   "metadata": {},
   "source": [
    "4. The \"Prelecture\" video (above) mentioned that bootstrap confidence intervals could apply to other statistics of the sample, such as the \"median\". Work with a ChatBot to create code to produce a 95% bootstrap confidence interval for a population mean based on a sample that you have and comment the code to demonstrate how the code can be changed to produce a 95% bootstrap confidence interval for different population parameter (other than the population mean, such as the population median).<br><br>\n",
    "\n",
    "    <details class=\"details-example\"><summary style=\"color:blue\"><u>Further Guidance</u></summary>\n",
    "\n",
    "    *Hint: you can ask your ChatBot to create the code you need, and even make up a sample to use; but, you should work with your ChatBot to make sure you understand how the code works and what it's doing.*\n",
    "    \n",
    "    <br></details>"
   ]
  },
  {
   "cell_type": "code",
   "execution_count": 5,
   "metadata": {},
   "outputs": [
    {
     "data": {
      "image/png": "[encoded data removed]",
      "text/plain": [
       "<Figure size 640x480 with 1 Axes>"
      ]
     },
     "metadata": {},
     "output_type": "display_data"
    }
   ],
   "source": [
    "# compute the bootstrapped 95% C.I. of the mean \n",
    "import numpy as np\n",
    "import matplotlib.pyplot as plt\n",
    "\n",
    "# Sample data\n",
    "data = np.random.randn(10000)  # Replace with your actual data\n",
    "\n",
    "# Bootstrap parameters\n",
    "n_bootstraps = 10000\n",
    "bootstrap_means = []\n",
    "\n",
    "# Bootstrapping\n",
    "for _ in range(n_bootstraps):\n",
    "    bootstrap_sample = np.random.choice(data, size=1000, replace=True)\n",
    "    bootstrap_means.append(np.mean(bootstrap_sample))\n",
    "\n",
    "# Calculate 95% confidence interval\n",
    "ci_lower = np.percentile(bootstrap_means, 2.5)\n",
    "ci_upper = np.percentile(bootstrap_means, 97.5)\n",
    "\n",
    "# Plotting\n",
    "plt.hist(bootstrap_means, bins=30, edgecolor='k', alpha=0.7)\n",
    "plt.axvline(ci_lower, color='red', linestyle='--', label='2.5th Percentile (Lower CI)')\n",
    "plt.axvline(ci_upper, color='blue', linestyle='--', label='97.5th Percentile (Upper CI)')\n",
    "plt.axvline(np.mean(bootstrap_means), color='green', linestyle='-', label='Mean of Bootstrapped Means')\n",
    "plt.title('Bootstrap Sample Means Histogram')\n",
    "plt.xlabel('Bootstrap Means')\n",
    "plt.ylabel('Frequency')\n",
    "plt.legend()\n",
    "plt.show()"
   ]
  },
  {
   "cell_type": "markdown",
   "metadata": {},
   "source": [
    "Chat GPT explaination of the code : \n",
    "\n",
    "\n",
    "\n",
    "### Code Explanation\n",
    "\n",
    "```python\n",
    "import numpy as np\n",
    "import matplotlib.pyplot as plt\n",
    "```\n",
    "- **Imports**: The code starts by importing the necessary libraries. `numpy` is used for numerical operations, and `matplotlib.pyplot` is used for plotting.\n",
    "\n",
    "```python\n",
    "# Sample data\n",
    "data = np.random.randn(10000)  # Replace with your actual data\n",
    "```\n",
    "- **Sample Data**: Here, `data` is generated as a random sample of 10,000 points from a standard normal distribution (mean = 0, standard deviation = 1). In practice, this line should be replaced with your actual dataset.\n",
    "\n",
    "```python\n",
    "# Bootstrap parameters\n",
    "n_bootstraps = 10000\n",
    "bootstrap_means = []\n",
    "```\n",
    "- **Bootstrap Parameters**: \n",
    "  - `n_bootstraps`: This variable defines the number of bootstrap samples to generate (10,000 in this case).\n",
    "  - `bootstrap_means`: An empty list is created to store the means of each bootstrap sample.\n",
    "\n",
    "```python\n",
    "# Bootstrapping\n",
    "for _ in range(n_bootstraps):\n",
    "    bootstrap_sample = np.random.choice(data, size=1000, replace=True)\n",
    "    bootstrap_means.append(np.mean(bootstrap_sample))\n",
    "```\n",
    "- **Bootstrapping Loop**:\n",
    "  - The `for` loop runs `n_bootstraps` times. \n",
    "  - Inside the loop, a bootstrap sample is created by randomly selecting 1,000 data points from the original `data` array with replacement (`replace=True` means the same point can be selected multiple times).\n",
    "  - The mean of each bootstrap sample is calculated and appended to the `bootstrap_means` list.\n",
    "\n",
    "```python\n",
    "# Calculate 95% confidence interval\n",
    "ci_lower = np.percentile(bootstrap_means, 2.5)\n",
    "ci_upper = np.percentile(bootstrap_means, 97.5)\n",
    "```\n",
    "- **Confidence Interval Calculation**:\n",
    "  - The lower limit of the 95% confidence interval is calculated as the 2.5th percentile of the `bootstrap_means`.\n",
    "  - The upper limit is calculated as the 97.5th percentile. This means that we expect 95% of the bootstrap means to fall between these two percentiles.\n",
    "\n",
    "```python\n",
    "# Plotting\n",
    "plt.hist(bootstrap_means, bins=30, edgecolor='k', alpha=0.7)\n",
    "```\n",
    "- **Histogram**: A histogram of the bootstrap means is created with 30 bins. The edges of the bars are outlined in black (`edgecolor='k'`), and `alpha=0.7` makes the bars slightly transparent.\n",
    "\n",
    "```python\n",
    "plt.axvline(ci_lower, color='red', linestyle='--', label='2.5th Percentile (Lower CI)')\n",
    "plt.axvline(ci_upper, color='blue', linestyle='--', label='97.5th Percentile (Upper CI)')\n",
    "plt.axvline(np.mean(bootstrap_means), color='green', linestyle='-', label='Mean of Bootstrapped Means')\n",
    "```\n",
    "- **Vertical Lines**: \n",
    "  - Red dashed line (`axvline`) represents the lower confidence interval limit.\n",
    "  - Blue dashed line represents the upper confidence interval limit.\n",
    "  - A green solid line indicates the mean of the bootstrap means.\n",
    "\n",
    "```python\n",
    "plt.title('Bootstrap Sample Means Histogram')\n",
    "plt.xlabel('Bootstrap Means')\n",
    "plt.ylabel('Frequency')\n",
    "plt.legend()\n",
    "plt.show()\n",
    "```\n",
    "- **Final Plot Formatting**: The plot is titled, axes are labeled, a legend is added, and finally, `plt.show()` displays the histogram with all the annotations.\n",
    "\n",
    "### Summary\n",
    "The entire code creates a bootstrapped 95% confidence interval for the mean of the data. It does this by generating many samples, calculating their means, and visualizing the distribution of these means along with the confidence interval limits. This method helps to assess the variability and reliability of the mean estimate from the original dataset."
   ]
  },
  {
   "cell_type": "code",
   "execution_count": 2,
   "metadata": {},
   "outputs": [
    {
     "data": {
      "image/png": "[encoded data removed]",
      "text/plain": [
       "<Figure size 432x288 with 1 Axes>"
      ]
     },
     "metadata": {
      "needs_background": "light"
     },
     "output_type": "display_data"
    }
   ],
   "source": [
    "# compute the bootstrapped 95% C.I. of the median \n",
    "import numpy as np\n",
    "import matplotlib.pyplot as plt\n",
    "\n",
    "# Sample data\n",
    "data = np.random.randn(100)  # Replace with your actual data\n",
    "\n",
    "# Bootstrap parameters\n",
    "n_bootstraps = 1000\n",
    "bootstrap_medians = []\n",
    "\n",
    "# Bootstrapping\n",
    "for _ in range(n_bootstraps):\n",
    "    bootstrap_sample = np.random.choice(data, size=len(data), replace=True)\n",
    "    bootstrap_medians.append(np.median(bootstrap_sample))\n",
    "\n",
    "# Calculate 95% confidence interval\n",
    "ci_lower = np.percentile(bootstrap_medians, 2.5)\n",
    "ci_upper = np.percentile(bootstrap_medians, 97.5)\n",
    "\n",
    "# Plotting\n",
    "plt.hist(bootstrap_medians, bins=30, edgecolor='k', alpha=0.7)\n",
    "plt.axvline(ci_lower, color='red', linestyle='--', label='2.5th Percentile (Lower CI)')\n",
    "plt.axvline(ci_upper, color='blue', linestyle='--', label='97.5th Percentile (Upper CI)')\n",
    "plt.axvline(np.median(bootstrap_medians), color='green', linestyle='-', label='Median of Bootstrapped Medians')\n",
    "plt.title('Bootstrap Sample Medians Histogram')\n",
    "plt.xlabel('Bootstrap Medians')\n",
    "plt.ylabel('Frequency')\n",
    "plt.legend()\n",
    "plt.show()\n"
   ]
  },
  {
   "cell_type": "markdown",
   "metadata": {},
   "source": [
    "Using bootstrapping method, we can generate C.I. of any sample statstics by only changing the computation of sample statistics in the bootstrapped sample,and geting the distribution of any sample statistics. "
   ]
  },
  {
   "cell_type": "markdown",
   "metadata": {},
   "source": [
    "<details class=\"details-example\">\n",
    "    <summary style=\"color:blue\"><u>Continue now...?</u></summary>\n",
    "\n",
    "Feel free to work on the \"Postlecture\" HW below if you're making good progress and want to continue: some of the \"Postlecture\" HW questions continue to address the \"Prelecture\" video, so it's not particularly unreasonable to attempt to work ahead a little bit... \n",
    "\n",
    "- The very first question of the the \"Postlecture\" HW addresses the previously emphasized topic of *parameters* versus *statistics*, and would again be a very good thing to be clear about in preparation for the upcoming lecture...\n",
    "    \n",
    "*The benefits of continue would are that (a) it might be fun to try to tackle the challenge of working through some problems without additional preparation or guidance; and (b) this is a very valable skill to be comfortable with; and (c) it will let you build experience interacting with ChatBots (and beginning to understand their strengths and limitations in this regard)... it's good to have sense of when using a ChatBot is the best way to figure something out, or if another approach (such as course provided resources or a plain old websearch for the right resourse) would be more effective*\n",
    "    \n",
    "</details>    "
   ]
  },
  {
   "cell_type": "markdown",
   "metadata": {},
   "source": [
    "### \"Postlecture\" HW [*submission along with \"Prelecture\" HW is due prior to next TUT*]\n",
    "\n",
    "5. The previous question addresses making a confidence interval for a population parameter based on a sample statistic. Why do we need to distinguish between the role of the popualation parameter and the sample sample statistic when it comes to confidence intervals? Explain this concisely in your own words.<br><br>\n",
    "\n",
    "    <details class=\"details-example\"><summary style=\"color:blue\"><u>Further Guidance</u></summary>\n",
    "    \n",
    "    *This question helps clarify the nature and relative roles of (population) parameters and (sample) statistics, which is forms the fundamental conceptual relationship in statistics and data science; so, make sure you interact with a ChatBot (or search online or in the course [wiki-textbook](https://github.com/pointOfive/STA130_ChatGPT/wiki)) carefully and thoroughly to ensure that you understand the distinctions here in the context of confidence intervals.*\n",
    "    \n",
    "    <br></details>\n",
    "\n",
    "6. Provide written answers to the following questions as if you were explaining them conversationally to a friend with little experience with statistics. (A) What is the process of bootstrapping? (B) What is the main purpose of bootstrapping? (C) If you had a (hypothesized) guess about what the average of a population was, and you had a sample of size n from that population, how could you use bootstrapping to assess whether or not your (hypothesized) guess might be plausible?<br><br>\n",
    "    \n",
    "    <details class=\"details-example\"><summary style=\"color:blue\"><u>Further Guidance</u></summary>\n",
    "    \n",
    "    *Your answers to the previous questions 3-5 above should be very helpful for answering this question; but, they might be more technical than would be useful for explaining these ideas to your friends... you should look to use more descriptive and intuitive language in your explaination.*\n",
    "    \n",
    "    <br></details>\n",
    "\n",
    "7. The \"Prelecture\" video (above) introduced hypothesis testing by saying that \"the confidence interval covers zero, so we cannot reject the hypothesis that the drug is **[on average]** not doing anything\".  This conclusion could be referred to as \"failing to reject the null hypothesis\", where the term \"null\" refers to the concept of \"no effect **[on average]**\".  Why does a confidence interval overlapping zero \"fail to reject the null hypothesis\" when the observed sample mean statistic itself is not zero? Alternatively, what would lead to the opposite conclusion in this context; namely, instead choosing \"to reject the null hypothesis\"? Explain the answers to these questions concisely in your own words.<br><br>\n",
    "\n",
    "    <details class=\"details-example\"><summary style=\"color:blue\"><u>Further Guidance</u></summary>\n",
    "    \n",
    "    > *This question (which addresses a very similar concent to part (C) of the previous question) is really about characterizing and leveraging the behavior of the variability of sample means that we expect at a given sample size. Understanding why this characterization would explain the answer to this question is the key idea underlying statistics. In fact, this concept is the primary consideration in statistics and the essense of how statistical analysis works.*\n",
    "    > \n",
    "    > *The quotes above have been edited to include \"**[on average]**\" which more accurately clarifies the intended meaning of these statements... It's very relevent (related to Question \"5\" above) to understand why are we bothering with making an explicit distinction with this, and why is it slightly different to say that \"the drug is on average not doing anything\" as opposed to saying \"the drug is not doing anything\".*\n",
    "    > \n",
    "    > - Using a **null hypotheses** (and corresponding **alternative hypothesis**) will be addressed next week; but, to give a sneak peak preview of the **hypothesis testing** topic, the \"null\" and \"alternative\" are formally specified as \n",
    "    > <br><br>$$H_0: \\mu=0 \\quad \\text{ and } \\quad H_A: H_0 \\text{ is false}$$<br>\n",
    "    > which means that our **null hypotheses** is that the average value $\\mu$ of the population is $0$, while our **alternative hypothesis** is that the average value $\\mu$ of the population is not $0$. \n",
    "    > - The **null hypotheses** proceeds on the basis of the **scientific method**; meaning, it's what we beleive until we have sufficient evidence to no longer believe it. As such, the **null hypotheses** is typically something that we **do not** actually believe; and, actually, the **null hypotheses** simply serves as a sort of \"straw man\" which we in fact really intend to give evidence against so as to no longer believe it.\n",
    "    > - Note the difference between the observed sample values in the sample $x_i$ (for $i = 1, \\cdots, n$), the observed sample average $\\bar x$, and the actual value of the parameter $\\mu$ clearly. This should be obvious if you have a clear understanding of the answer to question \"5\" above\n",
    "    <br></details><br>\n",
    "\n",
    "8. Complete the following assignment. \n"
   ]
  },
  {
   "cell_type": "markdown",
   "metadata": {},
   "source": [
    "5. The previous question addresses making a confidence interval for a population parameter based on a sample statistic. Why do we need to distinguish between the role of the popualation parameter and the sample sample statistic when it comes to confidence intervals? Explain this concisely in your own words.<br><br>\n",
    "\n",
    "    <details class=\"details-example\"><summary style=\"color:blue\"><u>Further Guidance</u></summary>\n",
    "    \n",
    "    *This question helps clarify the nature and relative roles of (population) parameters and (sample) statistics, which is forms the fundamental conceptual relationship in statistics and data science; so, make sure you interact with a ChatBot (or search online or in the course [wiki-textbook](https://github.com/pointOfive/STA130_ChatGPT/wiki)) carefully and thoroughly to ensure that you understand the distinctions here in the context of confidence intervals.*\n",
    "    \n",
    "    <br></details>"
   ]
  },
  {
   "cell_type": "markdown",
   "metadata": {},
   "source": [
    "According to ChatGPT: \n",
    "\n",
    "1. Population Parameter: This is a fixed value that describes a characteristic of the entire population (e.g., population mean or median). However, it is usually unknown and needs to be estimated.\n",
    "\n",
    "2. Sample Statistic: This is calculated from a sample drawn from the population and serves as an estimate of the population parameter. It varies from sample to sample due to random sampling.\n",
    "\n",
    "3. Confidence intervals provide a range around the sample statistic, reflecting the uncertainty about how well it estimates the population parameter. \n",
    "\n",
    "\n",
    "In my words, population parameter is a characteristic population, which is an unknown constant, while Sample Statistic is a characteristic of random sample, which is a random variable.Confidence intervals provide a range estimate on the population parameter, taking account of the random sampling error in computing the Sample Statistic. "
   ]
  },
  {
   "cell_type": "markdown",
   "metadata": {},
   "source": [
    "6. Provide written answers to the following questions as if you were explaining them conversationally to a friend with little experience with statistics. (A) What is the process of bootstrapping? (B) What is the main purpose of bootstrapping? (C) If you had a (hypothesized) guess about what the average of a population was, and you had a sample of size n from that population, how could you use bootstrapping to assess whether or not your (hypothesized) guess might be plausible?<br><br>\n",
    "    \n",
    "    <details class=\"details-example\"><summary style=\"color:blue\"><u>Further Guidance</u></summary>\n",
    "    \n",
    "    *Your answers to the previous questions 3-5 above should be very helpful for answering this question; but, they might be more technical than would be useful for explaining these ideas to your friends... you should look to use more descriptive and intuitive language in your explaination.*\n",
    "    \n",
    "    <br></details>"
   ]
  },
  {
   "cell_type": "markdown",
   "metadata": {},
   "source": [
    "# 6A  the procedure of bootstrapping\n",
    "\n",
    "Bootstrapping is a kind of re-sampling method. In statistics, we take our sample data and randomly draw from it with replacement—meaning we can pick the same data point more than once—to create many “new” samples. This helps us create a lot of different possible scenarios based on our original data. "
   ]
  },
  {
   "cell_type": "markdown",
   "metadata": {},
   "source": [
    "# 6B  What is the main purpose of bootstrapping\n",
    "\n",
    "The main purpose of bootstrapping is to understand the uncertainty around our estimates or give us the distribution of our sample staistics. When we calculate something like an average from our sample, we want to know how reliable that estimate is. Bootstrapping helps us see how much the average could change if we took different samples from the population. It allows us to create confidence intervals, which give us a range of values that likely contain the true average of the whole population."
   ]
  },
  {
   "cell_type": "markdown",
   "metadata": {},
   "source": [
    "# 6C  If you had a (hypothesized) guess about what the average of a population was, and you had a sample of size n from that population, how could you use bootstrapping to assess whether or not your (hypothesized) guess might be plausible?\n",
    "\n",
    "Let’s say you think the average height of adults in your city is 5 feet 8 inches. You have a sample of, say, 30 people. To see if your guess is plausible, you can use bootstrapping. First, you’d take your sample of 30 people and create many new samples by randomly picking from those 30, just like we talked about earlier. For each new sample, you’d calculate the average height. After doing this hundreds or even thousands of times, you’ll have a distribution of average heights.\n",
    "\n",
    "Now, you can check where your guess of 5 feet 8 inches falls in that distribution. If it’s somewhere in the middle of the averages you got from bootstrapping, that suggests your guess is plausible. But if it’s way off to the side, that means it might not be a very good estimate."
   ]
  },
  {
   "cell_type": "markdown",
   "metadata": {},
   "source": [
    "7. The \"Prelecture\" video (above) introduced hypothesis testing by saying that \"the confidence interval covers zero, so we cannot reject the hypothesis that the drug is **[on average]** not doing anything\".  This conclusion could be referred to as \"failing to reject the null hypothesis\", where the term \"null\" refers to the concept of \"no effect **[on average]**\".  Why does a confidence interval overlapping zero \"fail to reject the null hypothesis\" when the observed sample mean statistic itself is not zero? Alternatively, what would lead to the opposite conclusion in this context; namely, instead choosing \"to reject the null hypothesis\"? Explain the answers to these questions concisely in your own words.<br><br>\n",
    "\n",
    "    <details class=\"details-example\"><summary style=\"color:blue\"><u>Further Guidance</u></summary>\n",
    "    \n",
    "    > *This question (which addresses a very similar concent to part (C) of the previous question) is really about characterizing and leveraging the behavior of the variability of sample means that we expect at a given sample size. Understanding why this characterization would explain the answer to this question is the key idea underlying statistics. In fact, this concept is the primary consideration in statistics and the essense of how statistical analysis works.*\n",
    "    > \n",
    "    > *The quotes above have been edited to include \"**[on average]**\" which more accurately clarifies the intended meaning of these statements... It's very relevent (related to Question \"5\" above) to understand why are we bothering with making an explicit distinction with this, and why is it slightly different to say that \"the drug is on average not doing anything\" as opposed to saying \"the drug is not doing anything\".*\n",
    "    > \n",
    "    > - Using a **null hypotheses** (and corresponding **alternative hypothesis**) will be addressed next week; but, to give a sneak peak preview of the **hypothesis testing** topic, the \"null\" and \"alternative\" are formally specified as \n",
    "    > <br><br>$$H_0: \\mu=0 \\quad \\text{ and } \\quad H_A: H_0 \\text{ is false}$$<br>\n",
    "    > which means that our **null hypotheses** is that the average value $\\mu$ of the population is $0$, while our **alternative hypothesis** is that the average value $\\mu$ of the population is not $0$. \n",
    "    > - The **null hypotheses** proceeds on the basis of the **scientific method**; meaning, it's what we beleive until we have sufficient evidence to no longer believe it. As such, the **null hypotheses** is typically something that we **do not** actually believe; and, actually, the **null hypotheses** simply serves as a sort of \"straw man\" which we in fact really intend to give evidence against so as to no longer believe it.\n",
    "    > - Note the difference between the observed sample values in the sample $x_i$ (for $i = 1, \\cdots, n$), the observed sample average $\\bar x$, and the actual value of the parameter $\\mu$ clearly. This should be obvious if you have a clear understanding of the answer to question \"5\" above\n",
    "    <br></details><br>"
   ]
  },
  {
   "cell_type": "markdown",
   "metadata": {},
   "source": [
    "Because sample statiscs is computed from random sample, and thus its realized value would be affected by random sampling. Therefore, it is likely that, when the population mean is 0 (H0 is true), we still observe a non-zero sample mean because of random sampling. As a result, a non-zero sample mean cannot be used to reject the null that the population mean is 0. Instead, we would investigate the probability of observing non-zero sample mean given that the population mean is 0, which is called p-value, to test the null hypothesis. \n",
    "\n",
    "\n",
    "Here is the ChatGPT explaination: \n",
    "\n",
    "A confidence interval overlapping zero indicates that the estimated effect (like the effect of a drug) could reasonably be zero, suggesting there might be no average effect. This occurs because the interval represents a range of values where the true population parameter (like the average effect of the drug) could lie. If zero is included in this range, we cannot confidently assert that there is a statistically significant effect, leading us to \"fail to reject the null hypothesis,\" which posits no effect.\n",
    "\n",
    "On the other hand, if the confidence interval does not overlap with zero—meaning all values in the interval are either positive or negative—we can conclude that the observed effect is statistically significant. This suggests that the sample mean provides strong evidence against the null hypothesis, allowing us to \"reject the null hypothesis.\" In this case, we would infer that the drug likely has an effect (either positive or negative) on average.\n"
   ]
  },
  {
   "cell_type": "markdown",
   "metadata": {},
   "source": [
    "8. Complete the following assignment. "
   ]
  },
  {
   "cell_type": "markdown",
   "metadata": {},
   "source": [
    "# Project: Vaccine Data \n",
    "\n",
    "## Overview\n",
    "\n",
    "The company AliTech has created a new vaccine that aims to improve the health of the people who take it. Your job is to use what you have learned in the course to give evidence for whether or not the vaccine is effective. \n",
    "\n",
    "## Data \n",
    "AliTech has released the following data.\n",
    "\n",
    "```csv\n",
    "PatientID,Age,Gender,InitialHealthScore,FinalHealthScore\n",
    "1,45,M,84,86\n",
    "2,34,F,78,86\n",
    "3,29,M,83,80\n",
    "4,52,F,81,86\n",
    "5,37,M,81,84\n",
    "6,41,F,80,86\n",
    "7,33,M,79,86\n",
    "8,48,F,85,82\n",
    "9,26,M,76,83\n",
    "10,39,F,83,84\n",
    "```\n",
    "\n",
    "## Deliverables\n",
    "While you can choose how to approach this project, the most obvious path would be to follow the analysis presented in the \"Prelecture\" HW video (above). Nonetheless, we are  primarily interested in evaluating your report relative to the following deliverables.\n",
    "\n",
    "- A visual presentation giving some initial insight into the comparison of interest.\n",
    "- A quantitative analysis of the data and an explanation of the method and purpose of this method.\n",
    "- A conclusion regarding a null hypothesis of \"no effect\" after analyzing the data with your methodology.\n",
    "- The clarity of your documentation, code, and written report. \n",
    "\n",
    "> Consider organizing your report within the following outline template.\n",
    "> 1. Problem Introduction \n",
    ">     1. An explaination of the meaning of a Null Hypothesis of \"no effect\" in this context\n",
    ">     2. Data Visualization (motivating and illustrating the comparison of interest)\n",
    "> 2. Quantitative Analysis\n",
    ">     1. Methodology Code and Explanations\n",
    ">     2. Supporting Visualizations\n",
    "> 3. Findings and Discussion\n",
    ">     1. Conclusion regarding a Null Hypothesis of \"no effect\"\n",
    ">     2. Further Considerations\n",
    "\n",
    "### Further Instructions:\n",
    "- When using random functions, you should make your analysis reproducible by using the `np.random.seed()` function\n",
    "- Create a CSV file and read that file in with your code, but **do not** include the CSV file along with your submission\n"
   ]
  },
  {
   "cell_type": "markdown",
   "metadata": {},
   "source": [
    "1. Problem Introduction\n",
    "\n",
    "1.1 Explanation of the Null Hypothesis of \"No Effect\"\n",
    "\n",
    "In this context, the null hypothesis (H0) states that the vaccine has no effect on patients' health scores. Specifically:\n",
    "\n",
    "H0: The average change in health score after receiving the vaccine is zero.\n",
    "HA: The average change in health score after receiving the vaccine is positive\n",
    "\n",
    "This means that any observed changes in health scores can be attributed to random chance rather than the effect of the vaccine. Our goal is to use the data provided to assess whether we have enough evidence to reject this null hypothesis in favor of an alternative hypothesis (H1), which points that the vaccine does have a positive effect on health scores.\n",
    "\n",
    "\n"
   ]
  },
  {
   "cell_type": "code",
   "execution_count": 3,
   "metadata": {},
   "outputs": [
    {
     "name": "stderr",
     "output_type": "stream",
     "text": [
      "/Users/kotokushuu/.local/lib/python3.8/site-packages/pandas/core/computation/expressions.py:20: UserWarning: Pandas requires version '2.7.3' or newer of 'numexpr' (version '2.7.1' currently installed).\n",
      "  from pandas.core.computation.check import NUMEXPR_INSTALLED\n"
     ]
    }
   ],
   "source": [
    "# create a csv for the data given: \n",
    "\n",
    "import pandas as pd\n",
    "\n",
    "# Data\n",
    "data = {\n",
    "    \"PatientID\": [1, 2, 3, 4, 5, 6, 7, 8, 9, 10],\n",
    "    \"Age\": [45, 34, 29, 52, 37, 41, 33, 48, 26, 39],\n",
    "    \"Gender\": ['M', 'F', 'M', 'F', 'M', 'F', 'M', 'F', 'M', 'F'],\n",
    "    \"InitialHealthScore\": [84, 78, 83, 81, 81, 80, 79, 85, 76, 83],\n",
    "    \"FinalHealthScore\": [86, 86, 80, 86, 84, 86, 86, 82, 83, 84]\n",
    "}\n",
    "\n",
    "# Create a DataFrame\n",
    "df = pd.DataFrame(data)\n",
    "\n",
    "# Save to CSV\n",
    "df.to_csv('vaccine_data.csv', index=False)\n"
   ]
  },
  {
   "cell_type": "code",
   "execution_count": 5,
   "metadata": {},
   "outputs": [
    {
     "data": {
      "image/png": "[encoded data removed]",
      "text/plain": [
       "<Figure size 720x360 with 1 Axes>"
      ]
     },
     "metadata": {
      "needs_background": "light"
     },
     "output_type": "display_data"
    }
   ],
   "source": [
    "import pandas as pd\n",
    "import matplotlib.pyplot as plt\n",
    "\n",
    "# Load the data from CSV file\n",
    "data = pd.read_csv('vaccine_data.csv')\n",
    "\n",
    "# Calculate the change in health scores\n",
    "data['ChangeInHealthScore'] = data['FinalHealthScore'] - data['InitialHealthScore']\n",
    "\n",
    "# Create a bar plot\n",
    "plt.figure(figsize=(10, 5))\n",
    "plt.bar(data['PatientID'], data['ChangeInHealthScore'], color='blue', alpha=0.6)\n",
    "plt.axhline(0, color='red', linestyle='--')  # Line at y=0 for reference\n",
    "plt.title('Change in Health Score After Vaccination')\n",
    "plt.xlabel('Patient ID')\n",
    "plt.ylabel('Change in Health Score')\n",
    "plt.xticks(data['PatientID'])\n",
    "plt.grid(axis='y')\n",
    "plt.show()\n"
   ]
  },
  {
   "cell_type": "code",
   "execution_count": 7,
   "metadata": {},
   "outputs": [
    {
     "data": {
      "image/png": "[encoded data removed]",
      "text/plain": [
       "<Figure size 864x360 with 2 Axes>"
      ]
     },
     "metadata": {
      "needs_background": "light"
     },
     "output_type": "display_data"
    }
   ],
   "source": [
    "# Create a scatter plot for InitialHealthScore vs FinalHealthScore\n",
    "plt.figure(figsize=(12, 5))\n",
    "\n",
    "# Scatter plot for Initial vs Final Health Scores\n",
    "plt.subplot(1, 2, 1)\n",
    "plt.scatter(data['InitialHealthScore'], data['FinalHealthScore'], color='blue', alpha=0.7)\n",
    "plt.title('Initial Health Score vs Final Health Score')\n",
    "plt.xlabel('Initial Health Score')\n",
    "plt.ylabel('Final Health Score')\n",
    "\n",
    "# Add a reference line (y=x)\n",
    "x = np.linspace(data['InitialHealthScore'].min(), data['InitialHealthScore'].max(), 100)\n",
    "plt.plot(x, x, color='red', linestyle='--')  # Reference line y=x\n",
    "plt.grid()\n",
    "\n",
    "# Scatter plot for Age vs Final Health Score\n",
    "plt.subplot(1, 2, 2)\n",
    "plt.scatter(data['Age'], data['FinalHealthScore'], color='green', alpha=0.7)\n",
    "plt.title('Age vs Final Health Score')\n",
    "plt.xlabel('Age')\n",
    "plt.ylabel('Final Health Score')\n",
    "\n",
    "# Add a horizontal line for the mean of Final Health Scores\n",
    "plt.axhline(data['FinalHealthScore'].mean(), color='red', linestyle='--')  # Mean line\n",
    "plt.grid()\n",
    "\n",
    "plt.tight_layout()\n",
    "plt.show()"
   ]
  },
  {
   "cell_type": "markdown",
   "metadata": {},
   "source": [
    "1.2. Data visualization: \n",
    "\n",
    "From the graphs above, we can conclude that teh initial health score and final health score is weakly positively correlated, while the age has almost no correlation with health score. "
   ]
  },
  {
   "cell_type": "markdown",
   "metadata": {},
   "source": [
    "2.1 Methodology Code and Explanations\n",
    "\n",
    "For the quantitative analysis, we will perform a paired t-test. This test is appropriate because we are comparing two related samples: the initial health scores and the final health scores of the same individuals.\n",
    "\n",
    "Paired t-test: This test checks whether the mean difference between paired observations is significantly different from zero."
   ]
  },
  {
   "cell_type": "code",
   "execution_count": 8,
   "metadata": {},
   "outputs": [
    {
     "name": "stdout",
     "output_type": "stream",
     "text": [
      "T-statistic: 2.5900615612703937, P-value: 0.02921052381549256\n"
     ]
    }
   ],
   "source": [
    "from scipy import stats\n",
    "\n",
    "# Perform a paired t-test\n",
    "t_statistic, p_value = stats.ttest_rel(data['FinalHealthScore'], data['InitialHealthScore'])\n",
    "\n",
    "# Display the results\n",
    "print(f'T-statistic: {t_statistic}, P-value: {p_value}')\n"
   ]
  },
  {
   "cell_type": "code",
   "execution_count": 9,
   "metadata": {},
   "outputs": [
    {
     "data": {
      "image/png": "[encoded data removed]",
      "text/plain": [
       "<Figure size 720x360 with 1 Axes>"
      ]
     },
     "metadata": {
      "needs_background": "light"
     },
     "output_type": "display_data"
    }
   ],
   "source": [
    "plt.figure(figsize=(10, 5))\n",
    "\n",
    "# Create boxplots for initial and final health scores\n",
    "plt.boxplot([data['InitialHealthScore'], data['FinalHealthScore']], labels=['Initial', 'Final'])\n",
    "plt.title('Distribution of Health Scores Before and After Vaccination')\n",
    "plt.ylabel('Health Score')\n",
    "plt.grid(axis='y')\n",
    "plt.show()\n"
   ]
  },
  {
   "cell_type": "markdown",
   "metadata": {},
   "source": [
    "2.2.\n",
    "\n",
    "From the box-plot above, we can conclude that the overall distribution of the health score after taking the drug is higher than the initial health score, showing high probability that the drug is effective. "
   ]
  },
  {
   "cell_type": "markdown",
   "metadata": {},
   "source": [
    "Because the p-value paired t-test is around 0.029, showing a low probability that the improved health score is casued by random sampling given the null is true. \n",
    "\n",
    "Therefore, we can conclude that we can reject the null hypothesis that the drug has no effect at 0.05 signficiance. "
   ]
  },
  {
   "cell_type": "markdown",
   "metadata": {},
   "source": [
    "3. Findings and Discussion\n",
    "\n",
    "3.1 Conclusion regarding the Null Hypothesis of \"No Effect\"\n",
    "\n",
    "After running the paired t-test, we will evaluate the p-value to make a decision regarding the null hypothesis.\n",
    "\n",
    "\n",
    "If p-value < 0.05: We reject the null hypothesis, suggesting the vaccine has a statistically significant effect on health scores.\n",
    "\n",
    "\n",
    "If p-value ≥ 0.05: We fail to reject the null hypothesis, suggesting there is not enough evidence to claim the vaccine is effective.\n",
    "\n",
    "\n",
    "\n"
   ]
  },
  {
   "cell_type": "markdown",
   "metadata": {},
   "source": [
    "3.2 Further Considerations\n",
    "\n",
    "In any analysis, especially in the context of evaluating the effectiveness of a vaccine, it’s crucial to consider various factors that could influence the findings. Here are some key considerations:\n",
    "\n",
    "Limitations of the Analysis\n",
    "1. Small Sample Size: The dataset includes only 10 patients, which may not adequately represent the broader population. Small sample sizes can lead to unreliable estimates and reduced statistical power, making it difficult to detect true effects.\n",
    "\n",
    "2. Lack of Control Group: Without a control group (e.g., a group that did not receive the vaccine), it’s challenging to determine whether the observed changes in health scores are due to the vaccine or other external factors, such as natural health fluctuations or other interventions.\n",
    "\n",
    "3. Short Time Frame: The data captures health scores only before and after vaccination without considering long-term effects. Health outcomes may evolve over time, and a longer follow-up period might reveal different results.\n",
    "\n",
    "Potential Biases\n",
    "\n",
    "1. Selection Bias: If the patients included in the study are not randomly selected, the results may be skewed. For instance, if healthier individuals were more likely to volunteer for the vaccine, the effectiveness might be overestimated.\n",
    "\n",
    "2. Reporting Bias: Patients may subjectively report their health scores, leading to inconsistencies. Personal biases or expectations about the vaccine could influence how patients perceive their health changes.\n",
    "\n",
    "3. Confounding Variables: Other factors, such as age, gender, pre-existing conditions, and lifestyle choices, could impact health outcomes but are not accounted for in this analysis. These confounders could obscure the true relationship between the vaccine and health improvements."
   ]
  },
  {
   "cell_type": "markdown",
   "metadata": {},
   "source": [
    "9. Have you reviewed the course [wiki-textbook](https://github.com/pointOfive/STA130_ChatGPT/wiki) and interacted with a ChatBot (or, if that wasn't sufficient, real people in the course piazza discussion board or TA office hours) to help you understand all the material in the tutorial and lecture that you didn't quite follow when you first saw it?<br><br>\n",
    "    \n",
    "    <details class=\"details-example\">\n",
    "    <summary style=\"color:blue\"><u>Further Guidance</u></summary>\n",
    "<br><em>Just answering \"Yes\" or \"No\" or \"Somewhat\" or \"Mostly\" or whatever here is fine as this question isn't a part of the rubric; but, the midterm and final exams may ask questions that are based on the tutorial and lecture materials; and, your own skills will be limited by your familiarity with these materials (which will determine your ability to actually do actual things effectively with these skills... like the course project...)<br><br></em>\n",
    "    </details>"
   ]
  },
  {
   "cell_type": "markdown",
   "metadata": {},
   "source": [
    "Summary of the ChatGPT session: \n",
    "\n",
    "In this conversation, we discussed a project focused on evaluating the effectiveness of a new vaccine using provided patient data. We outlined a structured approach to the project, including:\n",
    "\n",
    "1. **Problem Introduction**: Explained the null hypothesis of \"no effect\" in the context of the vaccine and provided a data visualization to compare initial and final health scores.\n",
    "\n",
    "2. **Quantitative Analysis**: Described the methodology, including performing a paired t-test to analyze the data, along with relevant visualizations such as boxplots.\n",
    "\n",
    "3. **Findings and Discussion**: Addressed the conclusion regarding the null hypothesis and provided further considerations, such as limitations of the analysis, potential biases, and the need for larger, more controlled studies.\n",
    "\n",
    "Additionally, we created Python code snippets to generate a CSV file with patient data, create scatter plots, and perform bootstrapping to compute a 95% confidence interval for the mean, including visualizations of the results. Each step was explained in detail to enhance understanding.\n",
    "\n",
    "\n",
    "link of the ChapGPT session: https://chatgpt.com/share/66fa175f-ed78-800e-afb3-93e9272242f3"
   ]
  },
  {
   "cell_type": "markdown",
   "metadata": {},
   "source": [
    "# Recommended Additional Useful Activities [Optional]\n",
    "\n",
    "The \"Ethical Profesionalism Considerations\" and \"Current Course Project Capability Level\" sections below **are not a part of the required homework assignment**; rather, they are regular weekly guides covering (a) relevant considerations regarding professional and ethical conduct, and (b) the analysis steps for the STA130 course project that are feasible at the current stage of the course \n",
    "\n",
    "<br>\n",
    "<details class=\"details-example\">\n",
    "    <summary style=\"color:blue\"><u>Ethical Professionalism Considerations</u></summary>\n",
    "\n",
    "1. What is the difference between reporting a sample statistic (say, from the Canadian Social Connection Survey) as opposed to the a population parameter (chacterizing the population of the Canadians the Canadian Social Connection Survey samples)?\n",
    "2. Why should bootsrapping (and confidence intervals in particular) be utilized when reporting sample statistics (say, from the Canadian Social Connection Survey)?\n",
    "3. How does bootsrapping (and confidence intervals in particular) help us relate the data we have to all Canadians? \n",
    "4. Is the population that the Canadian Social Connection Survey samples really actually all Canadians? Or is it biased in some way? \n",
    "5. Why are the previous questions \"Ethical\" and \"Professional\" in nature?\n",
    "6. If the Canadian Social Connection Survey samples Canadians in some sort of biased way, how could we begin considering if the results can generalize to all Canadians; or, perhaps, the degree to which the results could generalize to all Canadians?\n",
    "</details>    \n",
    "\n",
    "<details class=\"details-example\">\n",
    "    <summary style=\"color:blue\"><u>Current Course Project Capability Level</u></summary>\n",
    "\n",
    "#### Remember to abide by the [data use agreement](https://static1.squarespace.com/static/60283c2e174c122f8ebe0f39/t/6239c284d610f76fed5a2e69/1647952517436/Data+Use+Agreement+for+the+Canadian+Social+Connection+Survey.pdf) at all times\n",
    "    \n",
    "At this point in the course you should be able to compute a bootstrap confidence interval for the (candian) population mean of a numeric variable of the sample of the Canadian Social Connection Survey. On the basis of only using the techniques we've encountered in the course so far, it would only be possible to assess a null hypothesis of \"no effect\" if we had \"paired\" (e.g., \"before and after\") measurements in our data; but, we could of course assess a hypothesized parameter value estimated by the bootstrapped confidence interval of a relevant sample statistic...\n",
    "    \n",
    "1. What are the different samples and populations that are part of the data related to the Canadian Social Connection Survey?\n",
    "    \n",
    "2. Consider whether or not we have \"paired\" (e.g., \"before and after\") measurements in our data which could be used to assess a null hypothesis of \"no effect\" (in the manner of the \"Prelecture\" HW video above); and, if such data is available, create a confidence interval for the average sample difference and use it to assess a null hypothesis of \"no effect\".\n",
    "    \n",
    "3. Pick a couple numeric variables from the Canadian Social Connection Survey with different amounts of non-missing data and create a 95% bootstrapped confidence intervals estimating population parameters for the variables.  \n",
    "    1. You would not want to do this by hand [why?]; but, could you nonetheless describe how this process would be done if you were to do it by hand? \n",
    "\n",
    "    2. [For Advanced Students Only] There are two factors that go into the uncertainty of sample means: the standard deviation of the original sample and the size of the sample (and they create a standard error of the mean that is theoretically \"the standard deviation of the original sample divided by the square root of n\").  Compute the theoretical standard errors of the sample mean for the different variables you've considered; and, if they're different, confirm that they influence the (variance/uncertainty) bootstrapped sampling distribution of the mean as expected\n",
    "\n",
    "</details>            "
   ]
  }
 ],
 "metadata": {
  "celltoolbar": "Slideshow",
  "colab": {
   "provenance": []
  },
  "kernelspec": {
   "display_name": "Python 3 (ipykernel)",
   "language": "python",
   "name": "python3"
  },
  "language_info": {
   "codemirror_mode": {
    "name": "ipython",
    "version": 3
   },
   "file_extension": ".py",
   "mimetype": "text/x-python",
   "name": "python",
   "nbconvert_exporter": "python",
   "pygments_lexer": "ipython3",
   "version": "3.11.6"
  }
 },
 "nbformat": 4,
 "nbformat_minor": 1
}
