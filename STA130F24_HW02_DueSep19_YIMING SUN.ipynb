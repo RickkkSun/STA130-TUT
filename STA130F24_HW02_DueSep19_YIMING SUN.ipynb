{
 "cells": [
  {
   "cell_type": "markdown",
   "id": "73c5f3a4",
   "metadata": {},
   "source": [
    "# STA130 Homework 02\n",
    "\n",
    "Please see the course [wiki-textbook](https://github.com/pointOfive/STA130_ChatGPT/wiki) for the list of topics covered in this homework assignment, and a list of topics that might appear during ChatBot conversations which are \"out of scope\" for the purposes of this homework assignment (and hence can be safely ignored if encountered)"
   ]
  },
  {
   "cell_type": "markdown",
   "id": "46e5c46f",
   "metadata": {},
   "source": [
    "<details class=\"details-example\">\n",
    "    <summary style=\"color:blue\"><u>Introduction</u></summary>\n",
    "\n",
    "A reasonable characterization of STA130 Homework is that it simply defines a weekly reading comprehension assignment. \n",
    "Indeed, STA130 Homework essentially boils down to completing various understanding confirmation exercises oriented around coding and writing tasks.\n",
    "However, rather than reading a textbook, STA130 Homework is based on ChatBots so students can interactively follow up to clarify questions or confusion that they may still have regarding learning objective assignments.\n",
    "\n",
    "> Communication is a fundamental skill underlying statistics and data science, so STA130 Homework based on ChatBots helps practice effective two-way communication as part of a \"realistic\" dialogue activity supporting underlying conceptual understanding building. \n",
    "\n",
    "It will likely become increasingly tempting to rely on ChatBots to \"do the work for you\". But when you find yourself frustrated with a ChatBots inability to give you the results you're looking for, this is a \"hint\" that you've become overreliant on the ChatBots. Your objective should not be to have ChatBots \"do the work for you\", but to use ChatBots to help you build your understanding so you can efficiently leverage ChatBots (and other resources) to help you work more efficiently.<br><br>\n",
    "\n",
    "</details>\n",
    "\n",
    "<details class=\"details-example\">\n",
    "    <summary style=\"color:blue\"><u>Instructions</u></summary>\n",
    "\n",
    "1. Code and write all your answers (for both the \"Prelecture\" and \"Postlecture\" HW) in a python notebook (in code and markdown cells) \n",
    "    \n",
    "    > It is *suggested but not mandatory* that you complete the \"Prelecture\" HW prior to the Monday LEC since (a) all HW is due at the same time; but, (b) completing some of the HW early will mean better readiness for LEC and less of a \"procrastentation cruch\" towards the end of the week...\n",
    "    \n",
    "2. Paste summaries of your ChatBot sessions (including link(s) to chat log histories if you're using ChatGPT) within your notebook\n",
    "    \n",
    "    > Create summaries of your ChatBot sessions by using concluding prompts such as \"Please provide a summary of our exchanges here so I can submit them as a record of our interactions as part of a homework assignment\" or, \"Please provide me with the final working verson of the code that we created together\"\n",
    "    \n",
    "3. Save your python jupyter notebook in your own account and \"repo\" on [github.com](github.com) and submit a link to that notebook though Quercus for assignment marking<br><br>\n",
    "\n",
    "</details>\n",
    "\n",
    "<details class=\"details-example\">\n",
    "    <summary style=\"color:blue\"><u>Prompt Engineering?</u></summary>\n",
    "\n",
    "The questions (as copy-pasted prompts) are designed to initialize appropriate ChatBot conversations which can be explored in the manner of an interactive and dynamic textbook; but, it is nonetheless **strongly recommendated** that your rephrase the questions in a way that you find natural to ensure a clear understanding of the question. Given sensible prompts the represent a question well, the two primary challenges observed to arise from ChatBots are \n",
    "\n",
    "1. conversations going beyond the intended scope of the material addressed by the question; and, \n",
    "2. unrecoverable confusion as a result of sequential layers logial inquiry that cannot be resolved. \n",
    "\n",
    "In the case of the former (1), adding constraints specifying the limits of considerations of interest tends to be helpful; whereas, the latter (2) is often the result of initial prompting that leads to poor developments in navigating the material, which are likely just best resolve by a \"hard reset\" with a new initial approach to prompting.  Indeed, this is exactly the behavior [hardcoded into copilot](https://answers.microsoft.com/en-us/bing/forum/all/is-this-even-normal/0b6dcab3-7d6c-4373-8efe-d74158af3c00)...\n",
    "\n",
    "</details>\n",
    "\n",
    "### Marking Rubric (which may award partial credit) \n",
    "\n",
    "- [0.1 points]: All relevant ChatBot summaries [including link(s) to chat log histories if you're using ChatGPT] are reported within the notebook\n",
    "- [0.3 points]: Assignment completion confirmed by working \"final\" code and ChatBot summaries for \"3\"\n",
    "- [0.3 points]: Written submission evaluation and enagement confirmation with ChatBot summaries for \"6\"\n",
    "- [0.3 points]: Evaluation of engagement and evaluation of written communication in \"7\"\n",
    "        "
   ]
  },
  {
   "cell_type": "markdown",
   "id": "868d31e3",
   "metadata": {},
   "source": [
    "### \"Prelecture\" HW [*completion prior to next LEC is suggested but not mandatory*]\n",
    "\n",
    "1. Begin (or restart) part \"3A\" of the **Demo** above and interact with a ChatBot to make sure you understand how each part the Monte Hall problem code above works<br><br>\n",
    "\n",
    "    <details class=\"details-example\">\n",
    "    <summary style=\"color:blue\"><u>Further Guidance</u></summary>\n",
    "<br><em>ChatBots typically explain code fairly effectively, so a ChatBot will probably be very helpful if you share the full Monte Hall problem code; but, you can always introduce more specific and targetted prompts that help focus and format ChatBot responses as needed<br><br>ChatBots won't always re-introduce and re-explain the Monte Hall problem itself, so if you need it to do so you may need to specifically request this as part of your prompt or follow up interactions<br><br></em>\n",
    "    </details><br>\n",
    "\n",
    "2. Extend your ChatBot sessions to now address part \"3B\" of the **TUT Demo** and interact with your ChatBot to see if it can suggest a simpler, more streamlined way to code up this `for` loop simulation so the process is more clear and easier to understand; then, describe any preferences you have in terms of readibility or explainability  between the original code and the code improvements suggested by the ChatBot<br><br>\n",
    "\n",
    "    <details class=\"details-example\">\n",
    "    <summary style=\"color:blue\"><u>Further Guidance</u></summary>\n",
    "<br><em>The links in the TUT Demo show that there can be a lot of variation in the quality of the code improvements suggested by ChatBots<br><br></em>\n",
    "    </details><br>\n",
    "        \n",
    "3. Submit your preferred version of the Monty Hall problem that is verified to be running and working with a final printed output of the code; then, add code comments explaining the purpose of each line of the code<br><br>\n",
    "\n",
    "    <details class=\"details-example\">\n",
    "    <summary style=\"color:blue\"><u>Further Guidance</u></summary>\n",
    "<br><em>Your ChatBot will likely do much of this for you, but verify for yourself that you understand each comment and reword comments wherever you think it would be better to explain it differently<br><br>Remember to ask for summaries of your current session and paste these into your homework notebook  (including link(s) to chat log histories if you're using ChatGPT)<br><br></em>\n",
    "    </details><br>\n",
    "        \n",
    "4. Watch the embedded video tutorial on Markov chains in the next Jupyter cell below to understand their application and relevance for ChatBots; then, after watching the video, start a new ChatBot session by prompting that you have code that creates a \"Markovian ChatBot\"; show it the first version of the \"Markovian ChatBot code\" below; and interact with the ChatBot session to make sure you understand how the original first version of the \"Markovian ChatBot code\" works<br><br>\n",
    "\n",
    "    <details class=\"details-example\">\n",
    "    <summary style=\"color:blue\"><u>Further Guidance</u></summary>\n",
    "<br><em>If the ChatBot prompts you as to how you will \"train\" your own \"Markovian ChatBot\" you can reply that you'll just use a series of stories with a lot of different characters<br><br>Ask for summaries of this second ChatBot session and paste these into your homework notebook (including link(s) to chat log histories if you're using ChatGPT)<br><br></em>\n",
    "    </details><br>\n",
    "    "
   ]
  },
  {
   "cell_type": "markdown",
   "id": "39842f70",
   "metadata": {},
   "source": []
  },
  {
   "cell_type": "markdown",
   "id": "74548d38",
   "metadata": {},
   "source": [
    "# Q1\n",
    "\n",
    "Begin (or restart) part \"3A\" of the Demo above and interact with a ChatBot to make sure you understand how each part the Monte Hall problem code above works\n",
    "\n",
    "From the simulation code above, we can check that if we switch in the Monte Hall game, we have a prob of winning the prize of 2/3. In contrast,  if we not switch, the prob of winning the prize is 1/3. Thus, switching is a better strategy in this game from the simulation results. "
   ]
  },
  {
   "cell_type": "markdown",
   "id": "61f9d551",
   "metadata": {},
   "source": [
    "# Q2\n",
    "\n",
    "Extend your ChatBot sessions to now address part \"3B\" of the TUT Demo and interact with your ChatBot to see if it can suggest a simpler, more streamlined way to code up this for loop simulation so the process is more clear and easier to understand; then, describe any preferences you have in terms of readibility or explainability between the original code and the code improvements suggested by the ChatBot\n",
    "\n",
    "\n",
    "\n",
    "According to chapt GPT the improvement made including:\n",
    "\n",
    "Simplifications Made:\n",
    "Direct Filtering in List Comprehension:\n",
    "\n",
    "Instead of using a separate variable (doors_to_reveal), we directly filter all_door_options in a list comprehension to create remaining_doors. This reduces unnecessary lines of code.\n",
    "Streamlined Reveal Process:\n",
    "\n",
    "We directly use remaining_doors to determine goat_door_reveal, simplifying the revealing process.\n",
    "Concise Switching Logic:\n",
    "\n",
    "The switching logic using next() remains the same, efficiently determining the door the player switches to based on the revealed \"goat\" door.\n",
    "Clarity and Readability:\n",
    "\n",
    "The code structure is kept clear and readable, focusing on essential steps without unnecessary complexity.\n",
    "This version should be easier to follow while maintaining the accuracy of the simulation. It efficiently handles the Monty Hall problem scenario in a concise manner."
   ]
  },
  {
   "cell_type": "markdown",
   "id": "99c2a98b",
   "metadata": {},
   "source": [
    "# Q3 \n",
    "\n",
    "Submit your preferred version of the Monty Hall problem that is verified to be running and working with a final printed output of the code; then, add code comments explaining the purpose of each line of the code"
   ]
  },
  {
   "cell_type": "code",
   "execution_count": 1,
   "id": "5f7ee83a",
   "metadata": {},
   "outputs": [
    {
     "name": "stdout",
     "output_type": "stream",
     "text": [
      "Probability of winning by switching doors: 0.66655\n"
     ]
    }
   ],
   "source": [
    "# simulate won prob if switch\n",
    "import numpy as np\n",
    "\n",
    "# Constants\n",
    "all_door_options = (1, 2, 3)  # Doors labeled 1, 2, 3\n",
    "reps = 100000  # Number of simulations\n",
    "\n",
    "# Variable to count wins\n",
    "wins = 0\n",
    "\n",
    "# Simulation loop\n",
    "for _ in range(reps):\n",
    "    # Randomly choose the door with the car behind it\n",
    "    secret_winning_door = np.random.choice(all_door_options)\n",
    "    \n",
    "    # Player's initial choice (always door 1 in the original code)\n",
    "    my_door_choice = 1\n",
    "    \n",
    "    # Randomly reveal one of the remaining doors that is not the winning door or the player's choice\n",
    "    remaining_doors = [door for door in all_door_options if door != my_door_choice and door != secret_winning_door]\n",
    "    goat_door_reveal = np.random.choice(remaining_doors)\n",
    "    \n",
    "    # Switch the player's choice directly to the remaining door\n",
    "    my_door_choice = next(door for door in all_door_options if door != my_door_choice and door != goat_door_reveal)\n",
    "    \n",
    "    # Check if the switched choice is the winning door\n",
    "    if my_door_choice == secret_winning_door:\n",
    "        wins += 1\n",
    "\n",
    "# Calculate the probability of winning\n",
    "winning_prob = wins / reps\n",
    "print(\"Probability of winning by switching doors:\", winning_prob)"
   ]
  },
  {
   "cell_type": "code",
   "execution_count": 2,
   "id": "40fb7054",
   "metadata": {},
   "outputs": [
    {
     "name": "stdout",
     "output_type": "stream",
     "text": [
      "Probability of winning by not switching doors: 0.33121\n"
     ]
    }
   ],
   "source": [
    "# simulate won prob if NOT switch\n",
    "import numpy as np\n",
    "\n",
    "# Constants\n",
    "all_door_options = (1, 2, 3)  # Doors labeled 1, 2, 3\n",
    "reps = 100000  # Number of simulations\n",
    "\n",
    "# Variable to count wins\n",
    "wins = 0\n",
    "\n",
    "# Simulation loop\n",
    "for _ in range(reps):\n",
    "    # Randomly choose the door with the car behind it\n",
    "    secret_winning_door = np.random.choice(all_door_options)\n",
    "    \n",
    "    # Player's initial choice (always door 1 in the original code)\n",
    "    my_door_choice = 1\n",
    "    \n",
    "    # Randomly reveal one of the remaining doors that is not the winning door or the player's choice\n",
    "    remaining_doors = [door for door in all_door_options if door != my_door_choice and door != secret_winning_door]\n",
    "    goat_door_reveal = np.random.choice(remaining_doors)\n",
    "    \n",
    "    # Switch the player's choice directly to the remaining door\n",
    "    #my_door_choice = next(door for door in all_door_options if door != my_door_choice and door != goat_door_reveal)\n",
    "    \n",
    "    # Check if the switched choice is the winning door\n",
    "    if my_door_choice == secret_winning_door:\n",
    "        wins += 1\n",
    "\n",
    "# Calculate the probability of winning\n",
    "winning_prob = wins / reps\n",
    "print(\"Probability of winning by not switching doors:\", winning_prob)"
   ]
  },
  {
   "cell_type": "markdown",
   "id": "a5b1228c",
   "metadata": {},
   "source": [
    "# Q4\n",
    "\n",
    "Watch the embedded video tutorial on Markov chains in the next Jupyter cell below to understand their application and relevance for ChatBots; then, after watching the video, start a new ChatBot session by prompting that you have code that creates a \"Markovian ChatBot\"; show it the first version of the \"Markovian ChatBot code\" below; and interact with the ChatBot session to make sure you understand how the original first version of the \"Markovian ChatBot code\" works"
   ]
  },
  {
   "cell_type": "code",
   "execution_count": 3,
   "id": "88c73f53",
   "metadata": {},
   "outputs": [
    {
     "data": {
      "image/jpeg": "[encoded data removed]",
      "text/html": [
       "\n",
       "        <iframe\n",
       "            width=\"550\"\n",
       "            height=\"300\"\n",
       "            src=\"https://www.youtube.com/embed/56mGTszb_iM\"\n",
       "            frameborder=\"0\"\n",
       "            allowfullscreen\n",
       "            \n",
       "        ></iframe>\n",
       "        "
      ],
      "text/plain": [
       "<IPython.lib.display.YouTubeVideo at 0x7fb574392250>"
      ]
     },
     "execution_count": 3,
     "metadata": {},
     "output_type": "execute_result"
    }
   ],
   "source": [
    "# Markov Chains and Text Generation\n",
    "from IPython.display import YouTubeVideo\n",
    "YouTubeVideo('56mGTszb_iM', width = 550)"
   ]
  },
  {
   "cell_type": "markdown",
   "id": "f612f247",
   "metadata": {},
   "source": [
    "<details class=\"details-example\">\n",
    "    <summary style=\"color:blue\"><u>Continue now...?</u></summary>\n",
    "\n",
    "Feel free to work on the \"Postlecture\" HW below if you're making good progress and want to continue: for **HW 02** continuing could be reasonable because questions \"5-7\" below directly follow up and extend \"Prelecture\" HW question \"4\"\n",
    "\n",
    "*The benefits of continue would are that (a) it might be fun to try to tackle the challenge of working through some problems without additional preparation or guidance; and (b) this is a very valable skill to be comfortable with; and (c) it will let you build experience interacting with ChatBots (and beginning to understand their strengths and limitations in this regard)... it's good to have sense of when using a ChatBot is the best way to figure something out, or if another approach (such as course provided resources or a plain old websearch for the right resourse) would be more effective*\n",
    "    \n",
    "</details>    "
   ]
  },
  {
   "cell_type": "code",
   "execution_count": 4,
   "id": "137888fe",
   "metadata": {},
   "outputs": [
    {
     "data": {
      "text/plain": [
       "['chatbot',\n",
       " 'hello',\n",
       " 'example',\n",
       " 'world',\n",
       " 'hello',\n",
       " 'markov',\n",
       " 'random',\n",
       " 'markov',\n",
       " 'world',\n",
       " 'chatbot',\n",
       " 'test',\n",
       " 'world',\n",
       " 'chatbot',\n",
       " 'test',\n",
       " 'random',\n",
       " 'example',\n",
       " 'markov',\n",
       " 'world',\n",
       " 'world',\n",
       " 'example']"
      ]
     },
     "execution_count": 4,
     "metadata": {},
     "output_type": "execute_result"
    }
   ],
   "source": [
    "import random\n",
    "\n",
    "# Generate a random list of words for testing\n",
    "words = [random.choice(['hello', 'world', 'test', 'markov', 'chatbot', 'random', 'words', 'example']) for _ in range(20)]\n",
    "words"
   ]
  },
  {
   "cell_type": "code",
   "execution_count": 5,
   "id": "e5c1f0b7",
   "metadata": {},
   "outputs": [],
   "source": [
    "word_used = dict()\n",
    "next_word = dict()\n",
    "for i, word in enumerate(words[:-1]):\n",
    "    if word in word_used:\n",
    "        word_used[word] += 1\n",
    "    else:\n",
    "        word_used[word] = 1\n",
    "        next_word[word] = {}\n",
    "    if words[i + 1] in next_word[word]:\n",
    "        next_word[word][words[i + 1]] += 1\n",
    "    else:\n",
    "        next_word[word][words[i + 1]] = 1"
   ]
  },
  {
   "cell_type": "code",
   "execution_count": 6,
   "id": "24282470",
   "metadata": {},
   "outputs": [
    {
     "data": {
      "text/plain": [
       "{'chatbot': 3,\n",
       " 'hello': 2,\n",
       " 'example': 2,\n",
       " 'world': 5,\n",
       " 'markov': 3,\n",
       " 'random': 2,\n",
       " 'test': 2}"
      ]
     },
     "execution_count": 6,
     "metadata": {},
     "output_type": "execute_result"
    }
   ],
   "source": [
    "word_used"
   ]
  },
  {
   "cell_type": "code",
   "execution_count": 7,
   "id": "50516c75",
   "metadata": {},
   "outputs": [
    {
     "data": {
      "text/plain": [
       "{'chatbot': {'hello': 1, 'test': 2},\n",
       " 'hello': {'example': 1, 'markov': 1},\n",
       " 'example': {'world': 1, 'markov': 1},\n",
       " 'world': {'hello': 1, 'chatbot': 2, 'world': 1, 'example': 1},\n",
       " 'markov': {'random': 1, 'world': 2},\n",
       " 'random': {'markov': 1, 'example': 1},\n",
       " 'test': {'world': 1, 'random': 1}}"
      ]
     },
     "execution_count": 7,
     "metadata": {},
     "output_type": "execute_result"
    }
   ],
   "source": [
    "next_word"
   ]
  },
  {
   "cell_type": "markdown",
   "id": "a796e5e4",
   "metadata": {},
   "source": [
    "here is the explainating of Chat GPT on the initial code of words count markov chain: \n",
    "\n",
    "This initial code snippet appears to be part of a Markov chatbot implementation, focusing on building a model of word transitions from a given text input. Here's a breakdown of what the code does:\n",
    "\n",
    "Data Structures:\n",
    "\n",
    "word_used: A dictionary that keeps track of how many times each word appears in the text.\n",
    "next_word: A dictionary where each key is a word, and its value is another dictionary. This inner dictionary keeps track of the words that follow the key word and how frequently they occur.\n",
    "Loop Through Words:\n",
    "\n",
    "for i, word in enumerate(words[:-1]): This loop goes through each word in the list words, excluding the last word.\n",
    "The loop constructs the Markov model by analyzing pairs of consecutive words.\n",
    "Building the Model:\n",
    "\n",
    "if word in word_used: Checks if the current word has been encountered before.\n",
    "If yes, increments its count in word_used.\n",
    "If no, initializes its count in word_used and creates an empty dictionary for it in next_word.\n",
    "if words[i+1] in next_word[word]: Checks if the word following the current word (i.e., words[i+1]) has been encountered after this word before.\n",
    "If yes, increments the count of this pair in next_word.\n",
    "If no, initializes the count of this pair to 1.\n",
    "Purpose\n",
    "The purpose of this code is to construct a Markov chain where:\n",
    "\n",
    "word_used counts the frequency of each word in the dataset.\n",
    "next_word tracks the probabilities of transitions from one word to the next, which is crucial for generating text in a Markov chain-based chatbot.\n",
    "\n"
   ]
  },
  {
   "cell_type": "markdown",
   "id": "dfb39596",
   "metadata": {},
   "source": [
    "### \"Postlecture\" HW [*submission along with \"Prelecture\" HW is due prior to next TUT*]\n",
    "\n",
    "5. Recreate (or resume) the previous ChatBot session from question \"4\" above, and now  prompt the ChatBot session that you have a couple extensions of the code to show it, and then show it each of the extentions of the \"Markovian ChatBot code\" below in turn<br><br>\n",
    "\n",
    "    1. Without just supplying your ChatBot session with the answers, see if the ChatBot can figure out what the extensions in the code do; namely, making character specific Markov chains, and using bigrams (rather than just the previous word alone) dependency... prompt your ChatBot session with some hints if it's not seeming to \"get it\"<br><br>\n",
    "    \n",
    "    2. Interact with your ChatBot session to have it explain details of the code wherever you need help understanding what the code is doing and how it works<br><br>\n",
    "    \n",
    "    3. Start yet another new ChatBot session and first show the ChatBot the original \"Markovian ChatBot code\" below, and then tell ChatBot that you have an extension but this time just directly provide it the more complicated final extension without ever providing the intermediate extension code to the ChatBot session and see if it's still able to understand everything extension does; namely, making character specific Markov chains, and using bigrams (rather than just the previous word alone) dependency... prompt the ChatBot with some hints if it's not seeming to understand what you're getting at...<br><br>\n",
    "    \n",
    "    <details class=\"details-example\">\n",
    "    <summary style=\"color:blue\"><u>Further Guidance</u></summary>\n",
    "<br><em>Don't forget to ask for summaries of all your different ChatBot sessions and organize and paste these into your homework notebook (including link(s) to chat log histories if you're using ChatBot)<br><br>Unlike with the Monte Hall problem, we will not inquire with the ChatBot to see if it can suggest any streamlining, readability, or usability improvements to the alternative versions of the \"Markovian ChatBot code\" we're examining...\n",
    "    \n",
    "    > ...because doing so seems to result in the attempted creation of dubiously functional modular code with a focus on reusability (which is likely a result of ChatBot design being primarily a \"computer science\" topic), so ChatBot reponses here tend to orient around programming and system design principles (despite \"Markovian\" very much being a \"statistics\" topic)<br>\n",
    "    \n",
    "    Programming and system design principles are beyond the scope of STA130; but, they are critical for modern data science careers... if you are interested in pursuing a data science career, it imperitive that you complete courses like CSC263, CSC373, and perhaps an additional \"systems design\" course</em>\n",
    "    </details><br>\n",
    "        \n",
    "6. Report on your experience interacting with ChatBots to understand the Monte Hall problem and \"Markovian ChatBot\" code<br><br>\n",
    "\n",
    "    1. Discuss how quickly the ChatBot was able to be helpful for each of the above questions, and if so, how?<br><br>\n",
    "    \n",
    "    2. Discuss whether or not interacting with ChatBot to try to figure things out was frustrating or unhelpful, and if so, how?<br><br>\n",
    "    \n",
    "    3. Based on your experiences to date (e.g., including using ChatBots to troubleshoot coding errors in the previous homework), provide an overall assessment evaluating the usefulness of ChatBots as tools to help you understand code<br><br> \n",
    "      \n",
    "7. Reflect on your experience interacting with ChatBot and describe how your perception of AI-driven assistance tools in the context of learning coding, statistics, and data science has been evolving (or not) since joining the course<br><br>\n",
    "\n",
    "    <details class=\"details-example\">\n",
    "    <summary style=\"color:blue\"><u>Further Guidance</u></summary>\n",
    "<br><em>Question \"7\" and the next question \"8\" are somewhat related to the first bullet point in the suggested interactions of the \"Afterword\" to the Homework from last week... consider reviewing that if you'd like a little extra orienting around what these questions are trying to have you explore<br><br></em>\n",
    "    </details><br>\n",
    "\n",
    "8. ChatBots consume text data available on the web or platforms, and thus represents a new way to \"search consensensus\" that condenses and summarizes mainstream human thought<br><br>\n",
    "\n",
    "    1. Start a new ChatBot session and discuss the relevance of learning and adaptability, communication, coding, and statistics and data analysis as skills in the modern world, especially with respect to career opportunities (particularly in the context of the data science industry)<br><br>\n",
    "    \n",
    "    2. See if ChatBot thinks you could be a statistician or data scientist without coding or doing data analysis, and then transition your ChatBot conversation into a career exploration discussion, using the ChatBot to identify the skills that might be the most valuable for a career that you're interested<br><br>\n",
    "    \n",
    "    3. Ask for a summary of this ChatBot session and paste it into your homework notebook (including link(s) to chat log histories if you're using ChatBot)<br><br>\n",
    "    \n",
    "    4. Paraphrase the assessments and conclusions of your conversation in the form of a reflection on your current thoughts regarding your potential future career(s) and how you can go about building the skills you need to pursue it<br><br>\n",
    "    \n",
    "    <details class=\"details-example\">\n",
    "    <summary style=\"color:blue\"><u>Further Guidance</u></summary>\n",
    "<br><em>While question 8 is not a part of the rubric, it is nonetheless a very good exercise that will likely be valuable for you if you engage in them sincerely<br><br></em>\n",
    "    </details><br>\n",
    "\n",
    "9. Have you reviewed the course [wiki-textbook](https://github.com/pointOfive/STA130_ChatGPT/wiki) and interacted with a ChatBot (or, if that wasn't sufficient, real people in the course piazza discussion board or TA office hours) to help you understand all the material in the tutorial and lecture that you didn't quite follow when you first saw it?<br><br>\n",
    "    \n",
    "    <details class=\"details-example\">\n",
    "    <summary style=\"color:blue\"><u>Further Guidance</u></summary>\n",
    "<br><em>Just answering \"Yes\" or \"No\" or \"Somewhat\" or \"Mostly\" or whatever here is fine as this question isn't a part of the rubric; but, the midterm and final exams may ask questions that are based on the tutorial and lecture materials; and, your own skills will be limited by your familiarity with these materials (which will determine your ability to actually do actual things effectively with these skills... like the course project...)<br><br></em>\n",
    "    </details><br>"
   ]
  },
  {
   "cell_type": "markdown",
   "id": "ac1d4a5f",
   "metadata": {},
   "source": [
    "# Q5\n",
    "\n",
    "5. Recreate (or resume) the previous ChatBot session from question \"4\" above, and now  prompt the ChatBot session that you have a couple extensions of the code to show it, and then show it each of the extentions of the \"Markovian ChatBot code\" below in turn<br><br>\n",
    "\n",
    "    1. Without just supplying your ChatBot session with the answers, see if the ChatBot can figure out what the extensions in the code do; namely, making character specific Markov chains, and using bigrams (rather than just the previous word alone) dependency... prompt your ChatBot session with some hints if it's not seeming to \"get it\"<br><br>\n",
    "    \n",
    "    2. Interact with your ChatBot session to have it explain details of the code wherever you need help understanding what the code is doing and how it works<br><br>\n",
    "    \n",
    "    3. Start yet another new ChatBot session and first show the ChatBot the original \"Markovian ChatBot code\" below, and then tell ChatBot that you have an extension but this time just directly provide it the more complicated final extension without ever providing the intermediate extension code to the ChatBot session and see if it's still able to understand everything extension does; namely, making character specific Markov chains, and using bigrams (rather than just the previous word alone) dependency... prompt the ChatBot with some hints if it's not seeming to understand what you're getting at...<br><br>\n",
    "    \n",
    "    <details class=\"details-example\">\n",
    "    <summary style=\"color:blue\"><u>Further Guidance</u></summary>\n",
    "<br><em>Don't forget to ask for summaries of all your different ChatBot sessions and organize and paste these into your homework notebook (including link(s) to chat log histories if you're using ChatBot)<br><br>Unlike with the Monte Hall problem, we will not inquire with the ChatBot to see if it can suggest any streamlining, readability, or usability improvements to the alternative versions of the \"Markovian ChatBot code\" we're examining...\n",
    "    \n",
    "    > ...because doing so seems to result in the attempted creation of dubiously functional modular code with a focus on reusability (which is likely a result of ChatBot design being primarily a \"computer science\" topic), so ChatBot reponses here tend to orient around programming and system design principles (despite \"Markovian\" very much being a \"statistics\" topic)<br>\n",
    "    \n",
    "    Programming and system design principles are beyond the scope of STA130; but, they are critical for modern data science careers... if you are interested in pursuing a data science career, it imperitive that you complete courses like CSC263, CSC373, and perhaps an additional \"systems design\" course</em>\n",
    "    </details><br>\n",
    "        \n",
    "\n"
   ]
  },
  {
   "cell_type": "markdown",
   "id": "3fa31b2b",
   "metadata": {},
   "source": [
    "# Q5.a \n",
    "\n",
    "Without just supplying your ChatBot session with the answers, see if the ChatBot can figure out what the extensions in the code do; namely, making character specific Markov chains, and using bigrams (rather than just the previous word alone) dependency... prompt your ChatBot session with some hints if it's not seeming to \"get it\""
   ]
  },
  {
   "cell_type": "markdown",
   "id": "4b4b037d",
   "metadata": {},
   "source": [
    " Chat GPT generated code: "
   ]
  },
  {
   "cell_type": "code",
   "execution_count": 8,
   "id": "d3e43a50",
   "metadata": {},
   "outputs": [],
   "source": [
    "# Create a dictionary to hold Markov chains for different characters\n",
    "character_chains = dict()\n",
    "\n",
    "def add_to_chain(words, character='default'):\n",
    "    if character not in character_chains:\n",
    "        character_chains[character] = {\n",
    "            'word_used': dict(), \n",
    "            'next_word': dict()\n",
    "        }\n",
    "\n",
    "    word_used = character_chains[character]['word_used']\n",
    "    next_word = character_chains[character]['next_word']\n",
    "    \n",
    "    for i in range(len(words) - 2):  # Iterate till the second-to-last word\n",
    "        bigram = (words[i], words[i+1])\n",
    "        next_word_in_bigram = words[i+2]\n",
    "\n",
    "        if bigram in word_used:\n",
    "            word_used[bigram] += 1\n",
    "        else:\n",
    "            word_used[bigram] = 1\n",
    "            next_word[bigram] = {}\n",
    "\n",
    "        if next_word_in_bigram in next_word[bigram]:\n",
    "            next_word[bigram][next_word_in_bigram] += 1\n",
    "        else:\n",
    "            next_word[bigram][next_word_in_bigram] = 1\n",
    "\n",
    "# Example usage\n",
    "words = ['words', 'random', 'random', 'words', 'world', 'random', 'test', 'random', 'example', 'example', 'random', 'words', 'hello', 'words', 'random', 'hello', 'random', 'words', 'chatbot', 'world']\n",
    "add_to_chain(words, character='example_character')\n"
   ]
  },
  {
   "cell_type": "code",
   "execution_count": 9,
   "id": "c7783f24",
   "metadata": {},
   "outputs": [
    {
     "data": {
      "text/plain": [
       "{'example_character': {'word_used': {('words', 'random'): 2,\n",
       "   ('random', 'random'): 1,\n",
       "   ('random', 'words'): 3,\n",
       "   ('words', 'world'): 1,\n",
       "   ('world', 'random'): 1,\n",
       "   ('random', 'test'): 1,\n",
       "   ('test', 'random'): 1,\n",
       "   ('random', 'example'): 1,\n",
       "   ('example', 'example'): 1,\n",
       "   ('example', 'random'): 1,\n",
       "   ('words', 'hello'): 1,\n",
       "   ('hello', 'words'): 1,\n",
       "   ('random', 'hello'): 1,\n",
       "   ('hello', 'random'): 1,\n",
       "   ('words', 'chatbot'): 1},\n",
       "  'next_word': {('words', 'random'): {'random': 1, 'hello': 1},\n",
       "   ('random', 'random'): {'words': 1},\n",
       "   ('random', 'words'): {'world': 1, 'hello': 1, 'chatbot': 1},\n",
       "   ('words', 'world'): {'random': 1},\n",
       "   ('world', 'random'): {'test': 1},\n",
       "   ('random', 'test'): {'random': 1},\n",
       "   ('test', 'random'): {'example': 1},\n",
       "   ('random', 'example'): {'example': 1},\n",
       "   ('example', 'example'): {'random': 1},\n",
       "   ('example', 'random'): {'words': 1},\n",
       "   ('words', 'hello'): {'words': 1},\n",
       "   ('hello', 'words'): {'random': 1},\n",
       "   ('random', 'hello'): {'random': 1},\n",
       "   ('hello', 'random'): {'words': 1},\n",
       "   ('words', 'chatbot'): {'world': 1}}}}"
      ]
     },
     "execution_count": 9,
     "metadata": {},
     "output_type": "execute_result"
    }
   ],
   "source": [
    "character_chains"
   ]
  },
  {
   "cell_type": "markdown",
   "id": "9f510238",
   "metadata": {},
   "source": [
    " # Q5 b\n",
    " \n",
    " \n",
    " Interact with your ChatBot session to have it explain details of the code wherever you need help understanding what the code is doing and how it works<br><br>"
   ]
  },
  {
   "cell_type": "markdown",
   "id": "f6e7e3a0",
   "metadata": {},
   "source": [
    "here are the explaination of these code from Chat GPT: \n",
    "\n",
    "Explanation of the Extended Code\n",
    "Character-Specific Chains:\n",
    "\n",
    "character_chains: A dictionary that holds separate Markov chains for each \"character\". Each character's chain has its own word_used and next_word.\n",
    "add_to_chain: A function that adds words to the chain for a specified character.\n",
    "Using Bigrams:\n",
    "\n",
    "The loop now iterates over pairs of consecutive words (bigrams) instead of single words.\n",
    "bigram: A tuple of two consecutive words (words[i], words[i+1]).\n",
    "next_word_in_bigram: The word that follows the bigram, i.e., words[i+2].\n",
    "The model uses bigrams as keys in word_used and next_word.\n",
    "Updating the Model:\n",
    "\n",
    "For each bigram, the model records how often it occurs (word_used) and which words are likely to follow it (next_word).\n",
    "How to Use\n",
    "Call add_to_chain with a list of words and an optional character identifier to add words to a specific character's Markov chain.\n",
    "The chain will now use bigrams to determine the next word, allowing for more nuanced text generation.\n"
   ]
  },
  {
   "cell_type": "markdown",
   "id": "d3e529b3",
   "metadata": {},
   "source": [
    "As a result, we think the ChatGPT generated code has completed the extension of : \n",
    "1. word-specific markov chain \n",
    "2. bigrams"
   ]
  },
  {
   "cell_type": "markdown",
   "id": "754e8380",
   "metadata": {},
   "source": [
    "# Q5 c \n",
    "\n",
    "Start yet another new ChatBot session and first show the ChatBot the original \"Markovian ChatBot code\" below, and then tell ChatBot that you have an extension but this time just directly provide it the more complicated final extension without ever providing the intermediate extension code to the ChatBot session and see if it's still able to understand everything extension does; namely, making character specific Markov chains, and using bigrams (rather than just the previous word alone) dependency... prompt the ChatBot with some hints if it's not seeming to understand what you're getting at...<br><br>"
   ]
  },
  {
   "cell_type": "code",
   "execution_count": 10,
   "id": "c604673f",
   "metadata": {},
   "outputs": [],
   "source": [
    "# Markovian Chatbot\n",
    "\n",
    "# from collections import defaultdict\n",
    "word_used = dict() # defaultdict(int)\n",
    "next_word = dict() # defaultdict(lambda: defaultdict(int))\n",
    "for i,word in enumerate(words[:-1]):\n",
    "\n",
    "    if word in word_used:\n",
    "        word_used[word] += 1\n",
    "    else:\n",
    "        word_used[word] = 1\n",
    "        next_word[word] = {}\n",
    "\n",
    "    if words[i+1] in next_word[word]:\n",
    "        next_word[word][words[i+1]] += 1\n",
    "    else:\n",
    "        next_word[word][words[i+1]] = 1"
   ]
  },
  {
   "cell_type": "code",
   "execution_count": 11,
   "id": "50e85866",
   "metadata": {},
   "outputs": [],
   "source": [
    "# Markovian Chatbot Extension #1\n",
    "from collections import Counter, defaultdict\n",
    "\n",
    "word_used2 = defaultdict(int)\n",
    "next_word2 = defaultdict(lambda: defaultdict(int))\n",
    "for i,word in enumerate(words[:-2]):\n",
    "    word_used2[word+' '+words[i+1]] += 1\n",
    "    next_word2[word+' '+words[i+1]][words[i+2]] += 1 "
   ]
  },
  {
   "cell_type": "markdown",
   "id": "c986134c",
   "metadata": {},
   "source": [
    "Here is the Chat GPT explaination of the code of extension #1 : \n",
    "\n",
    "This extension builds on the original Markovian chatbot code by creating a more sophisticated Markov chain model that considers word pairs (bigrams) instead of individual words. Here's what this extension does:\n",
    "\n",
    "Explanation of the Code\n",
    "Data Structures Initialization:\n",
    "\n",
    "word_used2: A defaultdict of integers that will store the frequency of each word pair (bigram) in the dataset.\n",
    "next_word2: A defaultdict where each key is a word pair, and the value is another defaultdict of integers. This nested structure will track the frequency of words that follow each word pair.\n",
    "Loop Through Words:\n",
    "\n",
    "The loop iterates over the list words but stops two words before the end (words[:-2]) to ensure there are enough words to form a pair and find the following word.\n",
    "For each iteration, it does the following:\n",
    "Form and Count Word Pairs (Bigrams):\n",
    "\n",
    "Constructs a word pair (word + ' ' + words[i+1]) by combining the current word (word) and the next word (words[i+1]).\n",
    "Increments the count of this word pair in word_used2.\n",
    "Track the Word Following the Pair:\n",
    "\n",
    "Updates next_word2 by adding the word following the pair (words[i+2]).\n",
    "Increments the count of this next word in the nested dictionary associated with the word pair.\n",
    "Summary\n",
    "This extension shifts from a unigram model (tracking individual words) to a bigram model (tracking pairs of consecutive words). This allows the model to capture more context and potentially generate more coherent and contextually appropriate sentences.\n",
    "word_used2 stores the frequency of each word pair.\n",
    "next_word2 stores the frequency of words that follow each word pair.\n",
    "By using this extended model, the chatbot can generate text that is more nuanced, considering not just the last word but the last two words when predicting the next word.\n",
    "\n",
    "from the explaination above, we can see chatGPT understand that the extension is to include bigrams in markov chain. "
   ]
  },
  {
   "cell_type": "code",
   "execution_count": 15,
   "id": "1fbe46be",
   "metadata": {},
   "outputs": [],
   "source": [
    "import pandas as pd\n",
    "url = \"https://raw.githubusercontent.com/rfordatascience/tidytuesday/master/data/2020/2020-08-11/avatar.csv\"\n",
    "avatar = pd.read_csv(url) #avatar.isnull().sum() #avatar[avatar.isnull().sum(axis=1)>0]"
   ]
  },
  {
   "cell_type": "code",
   "execution_count": 16,
   "id": "379d42fc",
   "metadata": {},
   "outputs": [],
   "source": [
    "words = (\"\\n\"+avatar.character.str.upper().str.replace(' ','.')+\": \"+avatar.full_text+\" \").sum().split(' ')"
   ]
  },
  {
   "cell_type": "code",
   "execution_count": 17,
   "id": "dcfec40d",
   "metadata": {},
   "outputs": [],
   "source": [
    "# Markovian Chatbot Extension #2\n",
    "\n",
    "from collections import Counter, defaultdict\n",
    "# `avatar` is a dataset, and `character` is one of it's columns\n",
    "characters = Counter(\"\\n\"+ avatar.character.str.upper().str.replace(' ','.')+\":\")\n",
    "# this code changes the type of the `character` column to `str`; then,\n",
    "# makes the text uppercase, and replaces spaces with '.'\n",
    "\n",
    "nested_dict = lambda: defaultdict(nested_dict)\n",
    "word_used2C = nested_dict()\n",
    "next_word2C = nested_dict()\n",
    "\n",
    "for i,word in enumerate(words[:-2]):\n",
    "    if word in characters:\n",
    "        character = word\n",
    "        \n",
    "    if character not in word_used2C:\n",
    "        word_used2C[character] = dict()\n",
    "    if word+' '+words[i+1] not in word_used2C[character]:\n",
    "        word_used2C[character][word+' '+words[i+1]] = 0\n",
    "    word_used2C[character][word+' '+words[i+1]] += 1\n",
    "    \n",
    "    if character not in next_word2C:\n",
    "        next_word2C[character] = dict()\n",
    "    if word+' '+words[i+1] not in next_word2C[character]:\n",
    "        next_word2C[character][word+' '+words[i+1]] = dict()\n",
    "    if words[i+2] not in next_word2C[character][word+' '+words[i+1]]:\n",
    "        next_word2C[character][word+' '+words[i+1]][words[i+2]] = 0\n",
    "    next_word2C[character][word+' '+words[i+1]][words[i+2]] += 1"
   ]
  },
  {
   "cell_type": "markdown",
   "id": "31e007d8",
   "metadata": {},
   "source": [
    "Here is chatGPT explaination of the code for 2nd extension: \n",
    "\n",
    "This second extension builds upon the previous versions by introducing the concept of \"characters\" into the Markov chain model. It aims to generate more character-specific text by associating word pairs and their subsequent words with specific characters in a dataset. Here’s what this code does:\n",
    "\n",
    "Explanation of the Code\n",
    "Importing and Initializing Data Structures:\n",
    "\n",
    "characters: A Counter that processes a dataset called avatar. It takes the character column, converts its values to uppercase, replaces spaces with dots, and appends a newline character and a colon. This creates a unique identifier for each character in the text.\n",
    "nested_dict: A lambda function used to create nested defaultdicts. It simplifies creating deeply nested dictionaries where keys can be added dynamically.\n",
    "word_used2C and next_word2C: Two nested dictionaries to store word pairs and their subsequent words in the context of specific characters.\n",
    "Processing Words:\n",
    "\n",
    "The loop iterates over the words list, stopping two words before the end (words[:-2]).\n",
    "During each iteration:\n",
    "Identify Characters: If the current word is in characters, it's considered a character name, and the character variable is updated to this name.\n",
    "Word Pair Counting for Characters:\n",
    "Initializes an entry in word_used2C for the character if it doesn’t exist.\n",
    "Checks if the word pair (word + ' ' + words[i+1]) exists for the current character. If not, it initializes the count to 0.\n",
    "Increments the count of the word pair for the character in word_used2C.\n",
    "Track Next Words for Character-specific Word Pairs:\n",
    "Initializes an entry in next_word2C for the character if it doesn’t exist.\n",
    "Checks if the word pair (word + ' ' + words[i+1]) exists for the current character in next_word2C. If not, it initializes it as a dictionary.\n",
    "Checks if the next word (words[i+2]) exists in the nested dictionary for the word pair. If not, it initializes its count to 0.\n",
    "Increments the count of the next word for the word pair under the character in next_word2C.\n",
    "Summary\n",
    "This extension creates a more detailed Markov model by incorporating character-specific word usage and transitions:\n",
    "It differentiates between word pairs and their subsequent words based on which character is \"speaking\" or being referenced.\n",
    "This allows the chatbot to generate text that is not only contextually appropriate based on word sequences but also tailored to specific characters in the dataset.\n",
    "word_used2C: Stores the frequency of word pairs (bigrams) associated with each character.\n",
    "next_word2C: Stores the frequency of words that follow each word pair for each character.\n",
    "By using this model, the chatbot can potentially generate dialogues that mimic the speaking style or vocabulary of different characters, making the generated text more diverse and character-specific.\n",
    "\n",
    "From the explaination above, we conclude chatGPT understands that the code above make extension for: \n",
    "1. character specific markov chain \n",
    "2. bigram markov chain "
   ]
  },
  {
   "cell_type": "markdown",
   "id": "18ef0694",
   "metadata": {},
   "source": [
    "# Q6 \n",
    "\n",
    "6. Report on your experience interacting with ChatBots to understand the Monte Hall problem and \"Markovian ChatBot\" code<br><br>\n",
    "\n",
    "    1. Discuss how quickly the ChatBot was able to be helpful for each of the above questions, and if so, how?\n",
    "    \n",
    "    **ChatGPT can generate explaination of provided code quickly, and also can generate fresh code quickly. However the explaination takes quick some programming experience and time to understand, while the generated0-code sometimes would have traceback.**\n",
    "    \n",
    "    \n",
    "    \n",
    "    2. Discuss whether or not interacting with ChatBot to try to figure things out was frustrating or unhelpful, and if so, how?\n",
    "    \n",
    "    **The explaination takes quick some programming experience and time to understand, but we always can ask ChatGPT to explain in more details to help use on the prerequisites of the code. It takes some time, but it is great improvement compared with pure Google search.**\n",
    "    \n",
    "    \n",
    "    \n",
    "    3. Based on your experiences to date (e.g., including using ChatBots to troubleshoot coding errors in the previous homework), provide an overall assessment evaluating the usefulness of ChatBots as tools to help you understand code\n",
    "    \n",
    "    **Although ChatGPT sometimes generate inacurrate and abstract explaination, it is already great improvement compared with understading the code by google search, browsing stackflows or try and errors.**\n",
    "    \n",
    "    \n",
    "    "
   ]
  },
  {
   "cell_type": "markdown",
   "id": "ee15ba3c",
   "metadata": {},
   "source": [
    "# Q7 \n",
    "\n",
    "7. Reflect on your experience interacting with ChatBot and describe how your perception of AI-driven assistance tools in the context of learning coding, statistics, and data science has been evolving (or not) since joining the course<br><br>\n",
    "\n",
    "    <details class=\"details-example\">\n",
    "    <summary style=\"color:blue\"><u>Further Guidance</u></summary>\n",
    "<br><em>Question \"7\" and the next question \"8\" are somewhat related to the first bullet point in the suggested interactions of the \"Afterword\" to the Homework from last week... consider reviewing that if you'd like a little extra orienting around what these questions are trying to have you explore<br><br></em>\n",
    "    </details><br>\n",
    "    \n",
    "My thought:   \n",
    "    \n",
    "    AI tools can greatly improve code learning efficiency by helping on errors on sytax, figuring out overall structure in loops or conditionals statement, and explaining complex code chucks. However, in term of stats modeling, the overall design and algorithms still need a lot human thinking to make it effective. \n",
    "    \n",
    "    Over all, AI tools are great methods to improve effeiciency for programmers, but it cannot replace data scienstis at least now in terms of modeling and structure design. \n",
    "   \n",
    "This is ChatGPT's \"thought\":\n",
    "1. Immediate Access to Guidance\n",
    "Initial Perception: Early in the course, AI tools may seem like an instant solution to roadblocks. Whether you're stuck on a coding problem, trying to understand statistical concepts, or making sense of a data science workflow, having an AI to provide guidance in seconds can be extremely valuable.\n",
    "\n",
    "Evolution: As you advance, you may start to view these tools less as direct \"problem solvers\" and more as a complement to learning. Over time, you might recognize that while AI tools provide immediate guidance, the deeper learning comes from understanding the \"why\" behind the solutions they suggest.\n",
    "2. Enhancing Understanding and Debugging\n",
    "Initial Perception: At first, you might use AI as a debugger or a quick-fix resource for code. This is helpful when you are learning new languages, libraries, or statistical methods and might feel uncertain about where errors come from.\n",
    "\n",
    "Evolution: Later on, you may begin to use AI assistance to gain insights into why certain approaches work or fail. Instead of simply solving bugs, you may seek a conceptual explanation of how code structures, models, or algorithms behave in specific ways. This shift helps deepen your understanding of programming logic and statistical reasoning.\n",
    "3. Supporting Project Work and Creative Exploration\n",
    "Initial Perception: In the beginning, you might see AI as an assistant for smaller, well-defined tasks. Whether it’s working on a project or learning a new technique, you could view the tool as a helper for isolated issues.\n",
    "\n",
    "Evolution: As you progress, you might start to leverage AI for larger projects, using it as a sounding board for creative experimentation in data science workflows. The ability to try new methods or ask questions on-the-fly allows for iterative exploration, which could make complex topics like machine learning algorithms or inferential statistics less intimidating.\n",
    "\n",
    "Weakness:\n",
    "1. Contextual Understanding and Domain Expertise\n",
    "Weakness: AI tools lack deep, domain-specific knowledge that is often crucial for making sense of data in context. While they can handle general queries and provide statistical or coding assistance, they may not fully grasp the nuances of a specific industry or field.\n",
    "\n",
    "Example: In healthcare or finance, for instance, domain expertise is critical for understanding which variables are important, how data should be interpreted, and what ethical considerations should be made. A chatbot may suggest technically correct methods, but without domain knowledge, it cannot make decisions based on real-world impacts or regulatory considerations.\n",
    "\n",
    "2. Creativity and Innovation in Problem Solving\n",
    "Weakness: Chatbots can follow predefined algorithms and known statistical methods, but they lack creativity and the ability to think outside the box. Data science often involves creating new approaches, combining different techniques, or experimenting with unconventional ideas.\n",
    "\n",
    "Example: When faced with a unique problem or when existing techniques fall short, human data scientists might develop innovative solutions or new models that aren't found in textbooks or standard AI responses. Chatbots will tend to default to existing methods without being able to invent new ones.\n",
    "\n",
    "**3. Ethical Judgments and Bias Considerations**\n",
    "\n",
    "**Weakness: AI tools cannot fully appreciate the ethical dimensions of data science, such as ensuring fairness, privacy, and addressing bias in algorithms. While AI can detect and flag certain biases in datasets, the broader ethical considerations often require human judgment.**\n",
    "\n",
    "**Example: When developing machine learning models that impact hiring, policing, or healthcare decisions, understanding the societal and ethical implications is essential. AI chatbots lack the emotional and ethical reasoning needed to assess whether a model may have unintended consequences on marginalized groups.**"
   ]
  },
  {
   "cell_type": "markdown",
   "id": "d14a9f6e",
   "metadata": {},
   "source": [
    "# Q8\n",
    "\n",
    "8. ChatBots consume text data available on the web or platforms, and thus represents a new way to \"search consensensus\" that condenses and summarizes mainstream human thought<br><br>\n",
    "\n",
    "    1. Start a new ChatBot session and discuss the relevance of learning and adaptability, communication, coding, and statistics and data analysis as skills in the modern world, especially with respect to career opportunities (particularly in the context of the data science industry)<br><br>\n",
    "    \n",
    "    2. See if ChatBot thinks you could be a statistician or data scientist without coding or doing data analysis, and then transition your ChatBot conversation into a career exploration discussion, using the ChatBot to identify the skills that might be the most valuable for a career that you're interested<br><br>\n",
    "    \n",
    "    3. Ask for a summary of this ChatBot session and paste it into your homework notebook (including link(s) to chat log histories if you're using ChatBot)<br><br>\n",
    "    \n",
    "    4. Paraphrase the assessments and conclusions of your conversation in the form of a reflection on your current thoughts regarding your potential future career(s) and how you can go about building the skills you need to pursue it<br><br>\n",
    "    \n",
    "    <details class=\"details-example\">\n",
    "    <summary style=\"color:blue\"><u>Further Guidance</u></summary>\n",
    "<br><em>While question 8 is not a part of the rubric, it is nonetheless a very good exercise that will likely be valuable for you if you engage in them sincerely<br><br></em>\n",
    "    </details><br>"
   ]
  },
  {
   "cell_type": "markdown",
   "id": "81631b0b",
   "metadata": {},
   "source": [
    "9. Have you reviewed the course [wiki-textbook](https://github.com/pointOfive/STA130_ChatGPT/wiki) and interacted with a ChatBot (or, if that wasn't sufficient, real people in the course piazza discussion board or TA office hours) to help you understand all the material in the tutorial and lecture that you didn't quite follow when you first saw it?<br><br>\n",
    "    \n",
    "    <details class=\"details-example\">\n",
    "    <summary style=\"color:blue\"><u>Further Guidance</u></summary>\n",
    "<br><em>Just answering \"Yes\" or \"No\" or \"Somewhat\" or \"Mostly\" or whatever here is fine as this question isn't a part of the rubric; but, the midterm and final exams may ask questions that are based on the tutorial and lecture materials; and, your own skills will be limited by your familiarity with these materials (which will determine your ability to actually do actual things effectively with these skills... like the course project...)<br><br></em>\n",
    "    </details><br>\n",
    "    \n",
    "    Yes"
   ]
  },
  {
   "cell_type": "markdown",
   "id": "9b76f1a3",
   "metadata": {},
   "source": [
    "ChatGPT link on Makov Chain: \n",
    "    \n",
    "For pre-lecture HW: https://chatgpt.com/share/66e8f577-3890-800e-91dd-528a54b5853a\n",
    "\n",
    "Summary: In this session, you provided three versions of code for a Markovian chatbot. The first version created a basic Markov chain model using word sequences to predict the next word. The second version extended this by using word pairs (bigrams) to capture more context. The third version introduced character-specific modeling by associating word pairs and their subsequent words with specific characters from a dataset, allowing for more tailored and character-specific text generation.\n",
    "\n",
    "For post-lecture HW: https://chatgpt.com/share/66e8f591-7ea4-800e-9d32-fd9e1d42ceea\n",
    "\n",
    "Summary: In this session, we discussed and extended a Markov chain-based chatbot implementation. The original code focused on building a Markov model using single-word transitions. We then extended this model to:\n",
    "\n",
    "1. **Character-Specific Markov Chains**: Implementing separate Markov chains for different \"characters\" or contexts, allowing for more specialized text generation.\n",
    "\n",
    "2. **Using Bigrams**: Transitioned from using single words to bigrams (pairs of consecutive words) to capture more context and improve the coherence of generated text.\n",
    "\n",
    "The final code includes functions to build these character-specific Markov chains using bigrams, setting the foundation for generating more nuanced and context-aware responses.\n",
    "\n",
    "ChatGPT cannot solve every field, especially in this case data science or statistical science. That really depends on how human interact with the chatbot, at least now. Evolution is in progress."
   ]
  },
  {
   "cell_type": "markdown",
   "id": "24e9cf61",
   "metadata": {},
   "source": [
    "# Recommended Additional Useful Activities [Optional]\n",
    "\n",
    "The \"Ethical Profesionalism Considerations\" and \"Current Course Project Capability Level\" sections below **are not a part of the required homework assignment**; rather, they are regular weekly guides covering (a) relevant considerations regarding professional and ethical conduct, and (b) the analysis steps for the STA130 course project that are feasible at the current stage of the course \n",
    "\n",
    "<br>\n",
    "<details class=\"details-example\">\n",
    "    <summary style=\"color:blue\"><u>Ethical Professionalism Considerations</u></summary>\n",
    "\n",
    "1. If you've not heard of the \"reproducibility crisis\" in science, have a ChatBot explain it to you\n",
    "2. If you've not heard of the \"open source software\" (versus proprietary software), have a ChatBot explain it to you\n",
    "3. \"Reproducibility\" can also be considered at the level of a given data analysis project: can others replicate the results of code or analysis that you've done?\n",
    "    1. Discuss with a ChatBot how jupyter notebooks and github can be used facilitate transparency and reproducibility in data analysis\n",
    "4. Discuss with a ChatBot what the distinction is between replicability of scientific experiments, versus the replicability of a specific data analysis project, and what your responsibility as an analyst should be with respect to both\n",
    "5. Do you think proprietary (non \"open source software\") software, such as Microsoft Word, Outlook, and Copilot tends to result in high quality products?  \n",
    "    1. Do you think software product monopolies (such as the UofT dependence on Microsoft products) makes the world a better place?\n",
    "</details>    \n",
    "\n",
    "<details class=\"details-example\">\n",
    "    <summary style=\"color:blue\"><u>Current Course Project Capability Level</u></summary>\n",
    "\n",
    "#### Remember to abide by the [data use agreement](https://static1.squarespace.com/static/60283c2e174c122f8ebe0f39/t/6239c284d610f76fed5a2e69/1647952517436/Data+Use+Agreement+for+the+Canadian+Social+Connection+Survey.pdf) at all times\n",
    "\n",
    "At this point in the course you should be able to create a `for` loop to iterate through and provide **simple summaries** of some of the interesting columns in the course project data\n",
    "\n",
    "1. Create two versions of the code, one for numeric and the other for categorical data,  which provide a printout format that displays relavent summaries and the missing data counts for a given set of (either numerical or categorical) columns being examined\n",
    "\n",
    "2. Combine the two separate `for` loops into a single `for` loop using an `if`/`else` **conditional logic structure** that determines the correct printout format based on the data type of the column under consideration<br><br>\n",
    "   \n",
    "    1. *Being able to transform existing code so it's \"resuable\" for different purposes is one version of the programming design principle of \"polymorphism\" (which means \"many uses\") [as in the first task above]*\n",
    "    2. *A better version of the programming design principle of \"polymorphism\" is when the same code can handle different use cases [as in the second tast above]*\n",
    "    3. *Being able run your code with different subsets of columns as interest in different variables changes is a final form of the programming design principle of \"polymorphism\" that's demonstrated through this exercise    \n",
    "    \n",
    "</details>        "
   ]
  },
  {
   "cell_type": "code",
   "execution_count": null,
   "id": "2dc2315e",
   "metadata": {},
   "outputs": [],
   "source": []
  },
  {
   "cell_type": "code",
   "execution_count": null,
   "id": "991104d5",
   "metadata": {},
   "outputs": [],
   "source": []
  }
 ],
 "metadata": {
  "kernelspec": {
   "display_name": "Python 3 (ipykernel)",
   "language": "python",
   "name": "python3"
  },
  "language_info": {
   "codemirror_mode": {
    "name": "ipython",
    "version": 3
   },
   "file_extension": ".py",
   "mimetype": "text/x-python",
   "name": "python",
   "nbconvert_exporter": "python",
   "pygments_lexer": "ipython3",
   "version": "3.11.6"
  }
 },
 "nbformat": 4,
 "nbformat_minor": 5
}
